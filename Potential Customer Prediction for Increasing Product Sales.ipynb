{
 "cells": [
  {
   "cell_type": "code",
   "execution_count": 1,
   "metadata": {},
   "outputs": [],
   "source": [
    "import pandas as pd\n",
    "import numpy as np\n",
    "import matplotlib.pyplot as plt\n",
    "import seaborn as sns"
   ]
  },
  {
   "cell_type": "markdown",
   "metadata": {},
   "source": [
    "# Business Understanding\n",
    "\n",
    "### Background\n",
    "\n",
    "Our company sold an automotive product for over 20 years. However, for the last 5 years the monthly average profit has been constant and did not gain any significant growth since the number of sales are remain stagnant as well. The condition will remain the same in the future if we do not do something. We have a lot of customer leads that can be a potential buyer. However, with limited member of sales team, we don’t have enough resource to approach more customer. It would be very inefficient and wasting a lotof resource to target all the leads.\n",
    "\n",
    "We want to be efficient instead of keep expanding the team, so we need another approach. With limited time and resources, we need to be able to quickly inspect and prioritize which customer is a potential buyer. We will also need to formally research on what makes them buy our products. By doing this, we can achieve higher or the same amount of profit with cheaper cost."
   ]
  },
  {
   "cell_type": "markdown",
   "metadata": {},
   "source": [
    "**In summary, our business problem is:**\n",
    "- We have stagnant profit because the number of sales is constant\n",
    "- There are a lot of customer leads but we can’t reach all of them\n",
    "- We need to know which customer leads that should be prioritized\n",
    "- We need lead scoring so that we can be efficent on targeting potential buyer\n",
    "\n",
    "### Business Goals and KPI\n",
    "The business goal is determined together with other department. This part should be the continuation of the background problem.\n",
    "- Gain insight on what drives people to buy our product\n",
    "- Increase profit by 10% year over year\n",
    "- Reduce annual marketing cost by 10%\n",
    "\n",
    "\n",
    "### Data Mining Goals and KPI\n",
    "The data mining goal is determined by the data mining team and is a translation from the business goals.\n",
    "- Build predictive model with 75% accuracy\n",
    "- Build predictive model with 75% recall\n",
    "- Build predictive model with 75% precision"
   ]
  },
  {
   "cell_type": "code",
   "execution_count": 2,
   "metadata": {},
   "outputs": [
    {
     "name": "stdout",
     "output_type": "stream",
     "text": [
      "Sales Shape: (40000, 14)\n",
      "Monthly Sales Shape:  (90, 3)\n"
     ]
    }
   ],
   "source": [
    "sales = pd.read_csv(r\"C:\\Users\\Dimas AR\\Desktop\\Data Science\\Algoritma - Sales Prediction\\sales.csv\")\n",
    "monthly_sales = pd.read_csv(r\"C:\\Users\\Dimas AR\\Desktop\\Data Science\\Algoritma - Sales Prediction\\monthly_sales.csv\")\n",
    "print('Sales Shape:', sales.shape)\n",
    "print('Monthly Sales Shape: ',monthly_sales.shape)"
   ]
  },
  {
   "cell_type": "markdown",
   "metadata": {},
   "source": [
    "# Data Understanding"
   ]
  },
  {
   "cell_type": "markdown",
   "metadata": {},
   "source": [
    "On the Data Understanding phase, we will gather, describe and explore the data to make sure it fits the business goal.\n",
    "The deliverable or result of this phase should include:\n",
    "- Data description\n",
    "- Early data exploration report\n",
    "- Data quality report"
   ]
  },
  {
   "cell_type": "code",
   "execution_count": 3,
   "metadata": {},
   "outputs": [
    {
     "data": {
      "text/html": [
       "<div>\n",
       "<style scoped>\n",
       "    .dataframe tbody tr th:only-of-type {\n",
       "        vertical-align: middle;\n",
       "    }\n",
       "\n",
       "    .dataframe tbody tr th {\n",
       "        vertical-align: top;\n",
       "    }\n",
       "\n",
       "    .dataframe thead th {\n",
       "        text-align: right;\n",
       "    }\n",
       "</style>\n",
       "<table border=\"1\" class=\"dataframe\">\n",
       "  <thead>\n",
       "    <tr style=\"text-align: right;\">\n",
       "      <th></th>\n",
       "      <th>flag</th>\n",
       "      <th>gender</th>\n",
       "      <th>education</th>\n",
       "      <th>house_val</th>\n",
       "      <th>age</th>\n",
       "      <th>online</th>\n",
       "      <th>customer_psy</th>\n",
       "      <th>marriage</th>\n",
       "      <th>child</th>\n",
       "      <th>occupation</th>\n",
       "      <th>mortgage</th>\n",
       "      <th>house_owner</th>\n",
       "      <th>region</th>\n",
       "      <th>fam_income</th>\n",
       "    </tr>\n",
       "  </thead>\n",
       "  <tbody>\n",
       "    <tr>\n",
       "      <th>0</th>\n",
       "      <td>Y</td>\n",
       "      <td>M</td>\n",
       "      <td>4. Grad</td>\n",
       "      <td>756460</td>\n",
       "      <td>1_Unk</td>\n",
       "      <td>N</td>\n",
       "      <td>B</td>\n",
       "      <td>NaN</td>\n",
       "      <td>U</td>\n",
       "      <td>Professional</td>\n",
       "      <td>1Low</td>\n",
       "      <td>NaN</td>\n",
       "      <td>Midwest</td>\n",
       "      <td>L</td>\n",
       "    </tr>\n",
       "    <tr>\n",
       "      <th>1</th>\n",
       "      <td>N</td>\n",
       "      <td>F</td>\n",
       "      <td>3. Bach</td>\n",
       "      <td>213171</td>\n",
       "      <td>7_&gt;65</td>\n",
       "      <td>N</td>\n",
       "      <td>E</td>\n",
       "      <td>NaN</td>\n",
       "      <td>U</td>\n",
       "      <td>Professional</td>\n",
       "      <td>1Low</td>\n",
       "      <td>Owner</td>\n",
       "      <td>Northeast</td>\n",
       "      <td>G</td>\n",
       "    </tr>\n",
       "    <tr>\n",
       "      <th>2</th>\n",
       "      <td>N</td>\n",
       "      <td>M</td>\n",
       "      <td>2. Some College</td>\n",
       "      <td>111147</td>\n",
       "      <td>2_&lt;=25</td>\n",
       "      <td>Y</td>\n",
       "      <td>C</td>\n",
       "      <td>NaN</td>\n",
       "      <td>Y</td>\n",
       "      <td>Professional</td>\n",
       "      <td>1Low</td>\n",
       "      <td>Owner</td>\n",
       "      <td>Midwest</td>\n",
       "      <td>J</td>\n",
       "    </tr>\n",
       "    <tr>\n",
       "      <th>3</th>\n",
       "      <td>Y</td>\n",
       "      <td>M</td>\n",
       "      <td>2. Some College</td>\n",
       "      <td>354151</td>\n",
       "      <td>2_&lt;=25</td>\n",
       "      <td>Y</td>\n",
       "      <td>B</td>\n",
       "      <td>Single</td>\n",
       "      <td>U</td>\n",
       "      <td>Sales/Service</td>\n",
       "      <td>1Low</td>\n",
       "      <td>NaN</td>\n",
       "      <td>West</td>\n",
       "      <td>L</td>\n",
       "    </tr>\n",
       "    <tr>\n",
       "      <th>4</th>\n",
       "      <td>Y</td>\n",
       "      <td>F</td>\n",
       "      <td>2. Some College</td>\n",
       "      <td>117087</td>\n",
       "      <td>1_Unk</td>\n",
       "      <td>Y</td>\n",
       "      <td>J</td>\n",
       "      <td>Married</td>\n",
       "      <td>Y</td>\n",
       "      <td>Sales/Service</td>\n",
       "      <td>1Low</td>\n",
       "      <td>NaN</td>\n",
       "      <td>South</td>\n",
       "      <td>H</td>\n",
       "    </tr>\n",
       "  </tbody>\n",
       "</table>\n",
       "</div>"
      ],
      "text/plain": [
       "  flag gender        education  house_val     age online customer_psy  \\\n",
       "0    Y      M          4. Grad     756460   1_Unk      N            B   \n",
       "1    N      F          3. Bach     213171   7_>65      N            E   \n",
       "2    N      M  2. Some College     111147  2_<=25      Y            C   \n",
       "3    Y      M  2. Some College     354151  2_<=25      Y            B   \n",
       "4    Y      F  2. Some College     117087   1_Unk      Y            J   \n",
       "\n",
       "  marriage child     occupation mortgage house_owner     region fam_income  \n",
       "0      NaN     U   Professional     1Low         NaN    Midwest          L  \n",
       "1      NaN     U   Professional     1Low       Owner  Northeast          G  \n",
       "2      NaN     Y   Professional     1Low       Owner    Midwest          J  \n",
       "3   Single     U  Sales/Service     1Low         NaN       West          L  \n",
       "4  Married     Y  Sales/Service     1Low         NaN      South          H  "
      ]
     },
     "execution_count": 3,
     "metadata": {},
     "output_type": "execute_result"
    }
   ],
   "source": [
    "sales.head()"
   ]
  },
  {
   "cell_type": "code",
   "execution_count": 4,
   "metadata": {},
   "outputs": [
    {
     "name": "stdout",
     "output_type": "stream",
     "text": [
      "<class 'pandas.core.frame.DataFrame'>\n",
      "RangeIndex: 40000 entries, 0 to 39999\n",
      "Data columns (total 14 columns):\n",
      " #   Column        Non-Null Count  Dtype \n",
      "---  ------        --------------  ----- \n",
      " 0   flag          40000 non-null  object\n",
      " 1   gender        40000 non-null  object\n",
      " 2   education     39259 non-null  object\n",
      " 3   house_val     40000 non-null  int64 \n",
      " 4   age           40000 non-null  object\n",
      " 5   online        40000 non-null  object\n",
      " 6   customer_psy  40000 non-null  object\n",
      " 7   marriage      25973 non-null  object\n",
      " 8   child         40000 non-null  object\n",
      " 9   occupation    40000 non-null  object\n",
      " 10  mortgage      40000 non-null  object\n",
      " 11  house_owner   36623 non-null  object\n",
      " 12  region        40000 non-null  object\n",
      " 13  fam_income    40000 non-null  object\n",
      "dtypes: int64(1), object(13)\n",
      "memory usage: 4.3+ MB\n"
     ]
    }
   ],
   "source": [
    "sales.info()"
   ]
  },
  {
   "cell_type": "markdown",
   "metadata": {},
   "source": [
    "### Column Description :\n",
    "\n",
    "The collected data consists of 40,000 distinct customers with 14 variables. The description of each col-\n",
    "umn/variable can be seen below:\n",
    "\n",
    "- flag : Whether the customer has bought the target product or not\n",
    "- gender : Gender of the customer\n",
    "- education : Education background of customer\n",
    "- house_val : Value of the residence the customer lives in\n",
    "- age : Age of the customer by group\n",
    "- online : Whether the customer had online shopping experience or not\n",
    "- customer_psy : Variable describing consumer psychology based on the area of residence\n",
    "- marriage : Marriage status of the customer\n",
    "- children : Whether the customer has children or not\n",
    "- occupation : Career information of the customer\n",
    "- mortgage : Housing Loan Information of customers\n",
    "- house_own : Whether the customer owns a house or not\n",
    "- region : Information on the area in which the customer are located\n",
    "- fam_income : Family income Information of the customer(A means the lowest, and L means the highest)"
   ]
  },
  {
   "cell_type": "markdown",
   "metadata": {},
   "source": [
    " "
   ]
  },
  {
   "cell_type": "markdown",
   "metadata": {},
   "source": [
    "### Early Data Exploration and Data Quality Check\n",
    "\n",
    "We also need to check the quality of the data. For example, since many of the column/variable is categorical, we can check the summary of the data and see the number of customer of each categories. By doing this, we can also check whether there are any data that need to be cleansed or to be transformed. For example, we can check if there is a missing/empty values.\n",
    "The text above each section is the name of the column in the data. The text on the left side is the category\n",
    "on each column while the number on the right side is the frequency of each category."
   ]
  },
  {
   "cell_type": "code",
   "execution_count": 5,
   "metadata": {},
   "outputs": [
    {
     "name": "stdout",
     "output_type": "stream",
     "text": [
      "----------------------------------------flag---------------------------------------- - "
     ]
    },
    {
     "data": {
      "text/plain": [
       "N    20000\n",
       "Y    20000\n",
       "Name: flag, dtype: int64"
      ]
     },
     "metadata": {},
     "output_type": "display_data"
    },
    {
     "name": "stdout",
     "output_type": "stream",
     "text": [
      "----------------------------------------gender---------------------------------------- - "
     ]
    },
    {
     "data": {
      "text/plain": [
       "M    22019\n",
       "F    16830\n",
       "U     1151\n",
       "Name: gender, dtype: int64"
      ]
     },
     "metadata": {},
     "output_type": "display_data"
    },
    {
     "name": "stdout",
     "output_type": "stream",
     "text": [
      "----------------------------------------education---------------------------------------- - "
     ]
    },
    {
     "data": {
      "text/plain": [
       "2. Some College    11400\n",
       "3. Bach             9267\n",
       "1. HS               8828\n",
       "4. Grad             5916\n",
       "0. <HS              3848\n",
       "Name: education, dtype: int64"
      ]
     },
     "metadata": {},
     "output_type": "display_data"
    },
    {
     "name": "stdout",
     "output_type": "stream",
     "text": [
      "----------------------------------------house_val---------------------------------------- - "
     ]
    },
    {
     "data": {
      "text/plain": [
       "0          7696\n",
       "1000000      96\n",
       "1500000      51\n",
       "2000000      36\n",
       "294300       29\n",
       "228900       23\n",
       "5000         22\n",
       "261600       22\n",
       "239800       21\n",
       "299750       20\n",
       "163500       20\n",
       "251790       19\n",
       "170040       19\n",
       "245250       19\n",
       "179850       18\n",
       "196200       18\n",
       "272500       18\n",
       "408750       17\n",
       "147150       17\n",
       "343350       17\n",
       "Name: house_val, dtype: int64"
      ]
     },
     "metadata": {},
     "output_type": "display_data"
    },
    {
     "name": "stdout",
     "output_type": "stream",
     "text": [
      "----------------------------------------age---------------------------------------- - "
     ]
    },
    {
     "data": {
      "text/plain": [
       "5_<=55    8103\n",
       "4_<=45    7115\n",
       "1_Unk     6709\n",
       "6_<=65    5907\n",
       "3_<=35    4984\n",
       "7_>65     4822\n",
       "2_<=25    2360\n",
       "Name: age, dtype: int64"
      ]
     },
     "metadata": {},
     "output_type": "display_data"
    },
    {
     "name": "stdout",
     "output_type": "stream",
     "text": [
      "----------------------------------------online---------------------------------------- - "
     ]
    },
    {
     "data": {
      "text/plain": [
       "Y    27319\n",
       "N    12681\n",
       "Name: online, dtype: int64"
      ]
     },
     "metadata": {},
     "output_type": "display_data"
    },
    {
     "name": "stdout",
     "output_type": "stream",
     "text": [
      "----------------------------------------customer_psy---------------------------------------- - "
     ]
    },
    {
     "data": {
      "text/plain": [
       "B    8197\n",
       "C    7830\n",
       "E    6650\n",
       "F    4058\n",
       "G    3951\n",
       "D    2353\n",
       "I    2262\n",
       "J    2187\n",
       "A    1427\n",
       "H     958\n",
       "U     127\n",
       "Name: customer_psy, dtype: int64"
      ]
     },
     "metadata": {},
     "output_type": "display_data"
    },
    {
     "name": "stdout",
     "output_type": "stream",
     "text": [
      "----------------------------------------marriage---------------------------------------- - "
     ]
    },
    {
     "data": {
      "text/plain": [
       "Married    20891\n",
       "Single      5082\n",
       "Name: marriage, dtype: int64"
      ]
     },
     "metadata": {},
     "output_type": "display_data"
    },
    {
     "name": "stdout",
     "output_type": "stream",
     "text": [
      "----------------------------------------child---------------------------------------- - "
     ]
    },
    {
     "data": {
      "text/plain": [
       "Y    18012\n",
       "N    13333\n",
       "U     8528\n",
       "0      127\n",
       "Name: child, dtype: int64"
      ]
     },
     "metadata": {},
     "output_type": "display_data"
    },
    {
     "name": "stdout",
     "output_type": "stream",
     "text": [
      "----------------------------------------occupation---------------------------------------- - "
     ]
    },
    {
     "data": {
      "text/plain": [
       "Professional     14936\n",
       "Sales/Service    11767\n",
       "Blue Collar       6621\n",
       "Retired           4341\n",
       "Others            2006\n",
       "Farm               329\n",
       "Name: occupation, dtype: int64"
      ]
     },
     "metadata": {},
     "output_type": "display_data"
    },
    {
     "name": "stdout",
     "output_type": "stream",
     "text": [
      "----------------------------------------mortgage---------------------------------------- - "
     ]
    },
    {
     "data": {
      "text/plain": [
       "1Low     29848\n",
       "3High     5349\n",
       "2Med      4803\n",
       "Name: mortgage, dtype: int64"
      ]
     },
     "metadata": {},
     "output_type": "display_data"
    },
    {
     "name": "stdout",
     "output_type": "stream",
     "text": [
      "----------------------------------------house_owner---------------------------------------- - "
     ]
    },
    {
     "data": {
      "text/plain": [
       "Owner     29232\n",
       "Renter     7391\n",
       "Name: house_owner, dtype: int64"
      ]
     },
     "metadata": {},
     "output_type": "display_data"
    },
    {
     "name": "stdout",
     "output_type": "stream",
     "text": [
      "----------------------------------------region---------------------------------------- - "
     ]
    },
    {
     "data": {
      "text/plain": [
       "South        15676\n",
       "West          8725\n",
       "Midwest       8107\n",
       "Northeast     7247\n",
       "Rest           245\n",
       "Name: region, dtype: int64"
      ]
     },
     "metadata": {},
     "output_type": "display_data"
    },
    {
     "name": "stdout",
     "output_type": "stream",
     "text": [
      "----------------------------------------fam_income---------------------------------------- - "
     ]
    },
    {
     "data": {
      "text/plain": [
       "E    8432\n",
       "F    6641\n",
       "D    4582\n",
       "G    4224\n",
       "C    2687\n",
       "H    2498\n",
       "A    2274\n",
       "B    2169\n",
       "I    1622\n",
       "L    1617\n",
       "J    1614\n",
       "K    1487\n",
       "U     153\n",
       "Name: fam_income, dtype: int64"
      ]
     },
     "metadata": {},
     "output_type": "display_data"
    }
   ],
   "source": [
    "for col in sales.columns:\n",
    "    print('-' * 40 + col + '-' * 40 , end=' - ')\n",
    "    display(sales[col].value_counts().head(20))"
   ]
  },
  {
   "cell_type": "markdown",
   "metadata": {},
   "source": [
    "There are some interesting finding from the summary. For example, the gender column consists of 3 categories: F (Female), M (Male), and U (Unknown). The child column is similar, with additional value of U (Unknown) and 0 (zero) even though the column should only be Yes or No. The marriage and education column contain empty values. This is not surprising, since the sales team are not instructed to fulfill each column with pre-determined values. \n",
    "\n",
    "However, this means that the **incoming data quality is not good** and require future standardization in the future. This also show us that we need to cleanse and prepare the data before we do any analysis so that all relevant information can be captured."
   ]
  },
  {
   "cell_type": "markdown",
   "metadata": {},
   "source": [
    " "
   ]
  },
  {
   "cell_type": "markdown",
   "metadata": {},
   "source": [
    "# Data Preparation\n",
    "\n",
    "On the Data Understanding phase, we will prepare and cleanse the data so they are fit for analysis and\n",
    "making prediction. Some people said that the data preparation take 80% of the data mining process.\n",
    "The deliverable or result of this phase should include:\n",
    "- Data preparation steps\n",
    "- Final data for modeling"
   ]
  },
  {
   "cell_type": "code",
   "execution_count": 6,
   "metadata": {},
   "outputs": [
    {
     "data": {
      "text/plain": [
       "flag                0\n",
       "gender              0\n",
       "education         741\n",
       "house_val           0\n",
       "age                 0\n",
       "online              0\n",
       "customer_psy        0\n",
       "marriage        14027\n",
       "child               0\n",
       "occupation          0\n",
       "mortgage            0\n",
       "house_owner      3377\n",
       "region              0\n",
       "fam_income          0\n",
       "dtype: int64"
      ]
     },
     "execution_count": 6,
     "metadata": {},
     "output_type": "execute_result"
    }
   ],
   "source": [
    "sales.isnull().sum()"
   ]
  },
  {
   "cell_type": "markdown",
   "metadata": {},
   "source": [
    "### Data Cleansing Part 1\n",
    "\n",
    "- Change missing/empty value in education, house_owner and marriage into the most frequent values\n",
    "- Make all null values in all categorical column into each one of the unique values"
   ]
  },
  {
   "cell_type": "code",
   "execution_count": 7,
   "metadata": {},
   "outputs": [
    {
     "data": {
      "text/html": [
       "<div>\n",
       "<style scoped>\n",
       "    .dataframe tbody tr th:only-of-type {\n",
       "        vertical-align: middle;\n",
       "    }\n",
       "\n",
       "    .dataframe tbody tr th {\n",
       "        vertical-align: top;\n",
       "    }\n",
       "\n",
       "    .dataframe thead th {\n",
       "        text-align: right;\n",
       "    }\n",
       "</style>\n",
       "<table border=\"1\" class=\"dataframe\">\n",
       "  <thead>\n",
       "    <tr style=\"text-align: right;\">\n",
       "      <th></th>\n",
       "      <th>education</th>\n",
       "      <th>marriage</th>\n",
       "      <th>house_owner</th>\n",
       "    </tr>\n",
       "  </thead>\n",
       "  <tbody>\n",
       "    <tr>\n",
       "      <th>0. &lt;HS</th>\n",
       "      <td>3848.0</td>\n",
       "      <td>NaN</td>\n",
       "      <td>NaN</td>\n",
       "    </tr>\n",
       "    <tr>\n",
       "      <th>1. HS</th>\n",
       "      <td>8828.0</td>\n",
       "      <td>NaN</td>\n",
       "      <td>NaN</td>\n",
       "    </tr>\n",
       "    <tr>\n",
       "      <th>2. Some College</th>\n",
       "      <td>11400.0</td>\n",
       "      <td>NaN</td>\n",
       "      <td>NaN</td>\n",
       "    </tr>\n",
       "    <tr>\n",
       "      <th>3. Bach</th>\n",
       "      <td>9267.0</td>\n",
       "      <td>NaN</td>\n",
       "      <td>NaN</td>\n",
       "    </tr>\n",
       "    <tr>\n",
       "      <th>4. Grad</th>\n",
       "      <td>5916.0</td>\n",
       "      <td>NaN</td>\n",
       "      <td>NaN</td>\n",
       "    </tr>\n",
       "    <tr>\n",
       "      <th>Married</th>\n",
       "      <td>NaN</td>\n",
       "      <td>20891.0</td>\n",
       "      <td>NaN</td>\n",
       "    </tr>\n",
       "    <tr>\n",
       "      <th>Owner</th>\n",
       "      <td>NaN</td>\n",
       "      <td>NaN</td>\n",
       "      <td>29232.0</td>\n",
       "    </tr>\n",
       "    <tr>\n",
       "      <th>Renter</th>\n",
       "      <td>NaN</td>\n",
       "      <td>NaN</td>\n",
       "      <td>7391.0</td>\n",
       "    </tr>\n",
       "    <tr>\n",
       "      <th>Single</th>\n",
       "      <td>NaN</td>\n",
       "      <td>5082.0</td>\n",
       "      <td>NaN</td>\n",
       "    </tr>\n",
       "  </tbody>\n",
       "</table>\n",
       "</div>"
      ],
      "text/plain": [
       "                 education  marriage  house_owner\n",
       "0. <HS              3848.0       NaN          NaN\n",
       "1. HS               8828.0       NaN          NaN\n",
       "2. Some College    11400.0       NaN          NaN\n",
       "3. Bach             9267.0       NaN          NaN\n",
       "4. Grad             5916.0       NaN          NaN\n",
       "Married                NaN   20891.0          NaN\n",
       "Owner                  NaN       NaN      29232.0\n",
       "Renter                 NaN       NaN       7391.0\n",
       "Single                 NaN    5082.0          NaN"
      ]
     },
     "execution_count": 7,
     "metadata": {},
     "output_type": "execute_result"
    }
   ],
   "source": [
    "sales[['education', 'marriage', 'house_owner']].apply(pd.Series.value_counts)"
   ]
  },
  {
   "cell_type": "code",
   "execution_count": 8,
   "metadata": {},
   "outputs": [],
   "source": [
    "sales['education'] = sales['education'].fillna((sales['education'].value_counts().index[0])) "
   ]
  },
  {
   "cell_type": "code",
   "execution_count": 9,
   "metadata": {},
   "outputs": [
    {
     "data": {
      "text/html": [
       "<div>\n",
       "<style scoped>\n",
       "    .dataframe tbody tr th:only-of-type {\n",
       "        vertical-align: middle;\n",
       "    }\n",
       "\n",
       "    .dataframe tbody tr th {\n",
       "        vertical-align: top;\n",
       "    }\n",
       "\n",
       "    .dataframe thead th {\n",
       "        text-align: right;\n",
       "    }\n",
       "</style>\n",
       "<table border=\"1\" class=\"dataframe\">\n",
       "  <thead>\n",
       "    <tr style=\"text-align: right;\">\n",
       "      <th></th>\n",
       "      <th>flag</th>\n",
       "      <th>gender</th>\n",
       "      <th>education</th>\n",
       "      <th>house_val</th>\n",
       "      <th>age</th>\n",
       "      <th>online</th>\n",
       "      <th>customer_psy</th>\n",
       "      <th>marriage</th>\n",
       "      <th>child</th>\n",
       "      <th>occupation</th>\n",
       "      <th>mortgage</th>\n",
       "      <th>house_owner</th>\n",
       "      <th>region</th>\n",
       "      <th>fam_income</th>\n",
       "    </tr>\n",
       "  </thead>\n",
       "  <tbody>\n",
       "    <tr>\n",
       "      <th>0</th>\n",
       "      <td>Y</td>\n",
       "      <td>M</td>\n",
       "      <td>4. Grad</td>\n",
       "      <td>756460</td>\n",
       "      <td>1_Unk</td>\n",
       "      <td>N</td>\n",
       "      <td>B</td>\n",
       "      <td>NaN</td>\n",
       "      <td>U</td>\n",
       "      <td>Professional</td>\n",
       "      <td>1Low</td>\n",
       "      <td>NaN</td>\n",
       "      <td>Midwest</td>\n",
       "      <td>L</td>\n",
       "    </tr>\n",
       "    <tr>\n",
       "      <th>1</th>\n",
       "      <td>N</td>\n",
       "      <td>F</td>\n",
       "      <td>3. Bach</td>\n",
       "      <td>213171</td>\n",
       "      <td>7_&gt;65</td>\n",
       "      <td>N</td>\n",
       "      <td>E</td>\n",
       "      <td>NaN</td>\n",
       "      <td>U</td>\n",
       "      <td>Professional</td>\n",
       "      <td>1Low</td>\n",
       "      <td>Owner</td>\n",
       "      <td>Northeast</td>\n",
       "      <td>G</td>\n",
       "    </tr>\n",
       "    <tr>\n",
       "      <th>2</th>\n",
       "      <td>N</td>\n",
       "      <td>M</td>\n",
       "      <td>2. Some College</td>\n",
       "      <td>111147</td>\n",
       "      <td>2_&lt;=25</td>\n",
       "      <td>Y</td>\n",
       "      <td>C</td>\n",
       "      <td>NaN</td>\n",
       "      <td>Y</td>\n",
       "      <td>Professional</td>\n",
       "      <td>1Low</td>\n",
       "      <td>Owner</td>\n",
       "      <td>Midwest</td>\n",
       "      <td>J</td>\n",
       "    </tr>\n",
       "    <tr>\n",
       "      <th>3</th>\n",
       "      <td>Y</td>\n",
       "      <td>M</td>\n",
       "      <td>2. Some College</td>\n",
       "      <td>354151</td>\n",
       "      <td>2_&lt;=25</td>\n",
       "      <td>Y</td>\n",
       "      <td>B</td>\n",
       "      <td>Single</td>\n",
       "      <td>U</td>\n",
       "      <td>Sales/Service</td>\n",
       "      <td>1Low</td>\n",
       "      <td>NaN</td>\n",
       "      <td>West</td>\n",
       "      <td>L</td>\n",
       "    </tr>\n",
       "    <tr>\n",
       "      <th>4</th>\n",
       "      <td>Y</td>\n",
       "      <td>F</td>\n",
       "      <td>2. Some College</td>\n",
       "      <td>117087</td>\n",
       "      <td>1_Unk</td>\n",
       "      <td>Y</td>\n",
       "      <td>J</td>\n",
       "      <td>Married</td>\n",
       "      <td>Y</td>\n",
       "      <td>Sales/Service</td>\n",
       "      <td>1Low</td>\n",
       "      <td>NaN</td>\n",
       "      <td>South</td>\n",
       "      <td>H</td>\n",
       "    </tr>\n",
       "  </tbody>\n",
       "</table>\n",
       "</div>"
      ],
      "text/plain": [
       "  flag gender        education  house_val     age online customer_psy  \\\n",
       "0    Y      M          4. Grad     756460   1_Unk      N            B   \n",
       "1    N      F          3. Bach     213171   7_>65      N            E   \n",
       "2    N      M  2. Some College     111147  2_<=25      Y            C   \n",
       "3    Y      M  2. Some College     354151  2_<=25      Y            B   \n",
       "4    Y      F  2. Some College     117087   1_Unk      Y            J   \n",
       "\n",
       "  marriage child     occupation mortgage house_owner     region fam_income  \n",
       "0      NaN     U   Professional     1Low         NaN    Midwest          L  \n",
       "1      NaN     U   Professional     1Low       Owner  Northeast          G  \n",
       "2      NaN     Y   Professional     1Low       Owner    Midwest          J  \n",
       "3   Single     U  Sales/Service     1Low         NaN       West          L  \n",
       "4  Married     Y  Sales/Service     1Low         NaN      South          H  "
      ]
     },
     "execution_count": 9,
     "metadata": {},
     "output_type": "execute_result"
    }
   ],
   "source": [
    "sales.head()"
   ]
  },
  {
   "cell_type": "code",
   "execution_count": 10,
   "metadata": {},
   "outputs": [
    {
     "data": {
      "text/plain": [
       "flag                0\n",
       "gender              0\n",
       "education           0\n",
       "house_val           0\n",
       "age                 0\n",
       "online              0\n",
       "customer_psy        0\n",
       "marriage        14027\n",
       "child               0\n",
       "occupation          0\n",
       "mortgage            0\n",
       "house_owner      3377\n",
       "region              0\n",
       "fam_income          0\n",
       "dtype: int64"
      ]
     },
     "execution_count": 10,
     "metadata": {},
     "output_type": "execute_result"
    }
   ],
   "source": [
    "sales.isnull().sum()"
   ]
  },
  {
   "cell_type": "code",
   "execution_count": 11,
   "metadata": {},
   "outputs": [],
   "source": [
    "#fill null values of marriage column with most frequent value\n",
    "sales['marriage'] = sales['marriage'].fillna((sales['marriage'].value_counts().index[0])) \n",
    "\n",
    "#fill null values of house_owner column with most frequent value\n",
    "sales['house_owner'] = sales['house_owner'].fillna((sales['house_owner'].value_counts().index[0])) "
   ]
  },
  {
   "cell_type": "code",
   "execution_count": 12,
   "metadata": {},
   "outputs": [
    {
     "data": {
      "text/plain": [
       "flag            0\n",
       "gender          0\n",
       "education       0\n",
       "house_val       0\n",
       "age             0\n",
       "online          0\n",
       "customer_psy    0\n",
       "marriage        0\n",
       "child           0\n",
       "occupation      0\n",
       "mortgage        0\n",
       "house_owner     0\n",
       "region          0\n",
       "fam_income      0\n",
       "dtype: int64"
      ]
     },
     "execution_count": 12,
     "metadata": {},
     "output_type": "execute_result"
    }
   ],
   "source": [
    "sales.isnull().sum()"
   ]
  },
  {
   "cell_type": "markdown",
   "metadata": {},
   "source": [
    "## Data Cleansing Part 2\n",
    "\n",
    "- Cleanse the **age** category by removing the index (1_Unkn into Unknown, 2_<=25 into <=25, etc.)\n",
    "- Cleanse the **mortgage** category by removing the index\n",
    "- Rename values in **flag**, **gender**, **online**, and **child**"
   ]
  },
  {
   "cell_type": "code",
   "execution_count": 13,
   "metadata": {},
   "outputs": [
    {
     "name": "stdout",
     "output_type": "stream",
     "text": [
      "----------------------------------------flag---------------------------------------- - "
     ]
    },
    {
     "data": {
      "text/plain": [
       "N    20000\n",
       "Y    20000\n",
       "Name: flag, dtype: int64"
      ]
     },
     "metadata": {},
     "output_type": "display_data"
    },
    {
     "name": "stdout",
     "output_type": "stream",
     "text": [
      "----------------------------------------gender---------------------------------------- - "
     ]
    },
    {
     "data": {
      "text/plain": [
       "M    22019\n",
       "F    16830\n",
       "U     1151\n",
       "Name: gender, dtype: int64"
      ]
     },
     "metadata": {},
     "output_type": "display_data"
    },
    {
     "name": "stdout",
     "output_type": "stream",
     "text": [
      "----------------------------------------education---------------------------------------- - "
     ]
    },
    {
     "data": {
      "text/plain": [
       "2. Some College    12141\n",
       "3. Bach             9267\n",
       "1. HS               8828\n",
       "4. Grad             5916\n",
       "0. <HS              3848\n",
       "Name: education, dtype: int64"
      ]
     },
     "metadata": {},
     "output_type": "display_data"
    },
    {
     "name": "stdout",
     "output_type": "stream",
     "text": [
      "----------------------------------------house_val---------------------------------------- - "
     ]
    },
    {
     "data": {
      "text/plain": [
       "0          7696\n",
       "1000000      96\n",
       "1500000      51\n",
       "2000000      36\n",
       "294300       29\n",
       "228900       23\n",
       "5000         22\n",
       "261600       22\n",
       "239800       21\n",
       "299750       20\n",
       "163500       20\n",
       "251790       19\n",
       "170040       19\n",
       "245250       19\n",
       "179850       18\n",
       "196200       18\n",
       "272500       18\n",
       "408750       17\n",
       "147150       17\n",
       "343350       17\n",
       "Name: house_val, dtype: int64"
      ]
     },
     "metadata": {},
     "output_type": "display_data"
    },
    {
     "name": "stdout",
     "output_type": "stream",
     "text": [
      "----------------------------------------age---------------------------------------- - "
     ]
    },
    {
     "data": {
      "text/plain": [
       "5_<=55    8103\n",
       "4_<=45    7115\n",
       "1_Unk     6709\n",
       "6_<=65    5907\n",
       "3_<=35    4984\n",
       "7_>65     4822\n",
       "2_<=25    2360\n",
       "Name: age, dtype: int64"
      ]
     },
     "metadata": {},
     "output_type": "display_data"
    },
    {
     "name": "stdout",
     "output_type": "stream",
     "text": [
      "----------------------------------------online---------------------------------------- - "
     ]
    },
    {
     "data": {
      "text/plain": [
       "Y    27319\n",
       "N    12681\n",
       "Name: online, dtype: int64"
      ]
     },
     "metadata": {},
     "output_type": "display_data"
    },
    {
     "name": "stdout",
     "output_type": "stream",
     "text": [
      "----------------------------------------customer_psy---------------------------------------- - "
     ]
    },
    {
     "data": {
      "text/plain": [
       "B    8197\n",
       "C    7830\n",
       "E    6650\n",
       "F    4058\n",
       "G    3951\n",
       "D    2353\n",
       "I    2262\n",
       "J    2187\n",
       "A    1427\n",
       "H     958\n",
       "U     127\n",
       "Name: customer_psy, dtype: int64"
      ]
     },
     "metadata": {},
     "output_type": "display_data"
    },
    {
     "name": "stdout",
     "output_type": "stream",
     "text": [
      "----------------------------------------marriage---------------------------------------- - "
     ]
    },
    {
     "data": {
      "text/plain": [
       "Married    34918\n",
       "Single      5082\n",
       "Name: marriage, dtype: int64"
      ]
     },
     "metadata": {},
     "output_type": "display_data"
    },
    {
     "name": "stdout",
     "output_type": "stream",
     "text": [
      "----------------------------------------child---------------------------------------- - "
     ]
    },
    {
     "data": {
      "text/plain": [
       "Y    18012\n",
       "N    13333\n",
       "U     8528\n",
       "0      127\n",
       "Name: child, dtype: int64"
      ]
     },
     "metadata": {},
     "output_type": "display_data"
    },
    {
     "name": "stdout",
     "output_type": "stream",
     "text": [
      "----------------------------------------occupation---------------------------------------- - "
     ]
    },
    {
     "data": {
      "text/plain": [
       "Professional     14936\n",
       "Sales/Service    11767\n",
       "Blue Collar       6621\n",
       "Retired           4341\n",
       "Others            2006\n",
       "Farm               329\n",
       "Name: occupation, dtype: int64"
      ]
     },
     "metadata": {},
     "output_type": "display_data"
    },
    {
     "name": "stdout",
     "output_type": "stream",
     "text": [
      "----------------------------------------mortgage---------------------------------------- - "
     ]
    },
    {
     "data": {
      "text/plain": [
       "1Low     29848\n",
       "3High     5349\n",
       "2Med      4803\n",
       "Name: mortgage, dtype: int64"
      ]
     },
     "metadata": {},
     "output_type": "display_data"
    },
    {
     "name": "stdout",
     "output_type": "stream",
     "text": [
      "----------------------------------------house_owner---------------------------------------- - "
     ]
    },
    {
     "data": {
      "text/plain": [
       "Owner     32609\n",
       "Renter     7391\n",
       "Name: house_owner, dtype: int64"
      ]
     },
     "metadata": {},
     "output_type": "display_data"
    },
    {
     "name": "stdout",
     "output_type": "stream",
     "text": [
      "----------------------------------------region---------------------------------------- - "
     ]
    },
    {
     "data": {
      "text/plain": [
       "South        15676\n",
       "West          8725\n",
       "Midwest       8107\n",
       "Northeast     7247\n",
       "Rest           245\n",
       "Name: region, dtype: int64"
      ]
     },
     "metadata": {},
     "output_type": "display_data"
    },
    {
     "name": "stdout",
     "output_type": "stream",
     "text": [
      "----------------------------------------fam_income---------------------------------------- - "
     ]
    },
    {
     "data": {
      "text/plain": [
       "E    8432\n",
       "F    6641\n",
       "D    4582\n",
       "G    4224\n",
       "C    2687\n",
       "H    2498\n",
       "A    2274\n",
       "B    2169\n",
       "I    1622\n",
       "L    1617\n",
       "J    1614\n",
       "K    1487\n",
       "U     153\n",
       "Name: fam_income, dtype: int64"
      ]
     },
     "metadata": {},
     "output_type": "display_data"
    }
   ],
   "source": [
    "for col in sales.columns:\n",
    "    print('-' * 40 + col + '-' * 40 , end=' - ')\n",
    "    display(sales[col].value_counts().head(20))"
   ]
  },
  {
   "cell_type": "markdown",
   "metadata": {},
   "source": [
    "### Typo Fixing for age, education and mortgage"
   ]
  },
  {
   "cell_type": "code",
   "execution_count": 14,
   "metadata": {},
   "outputs": [],
   "source": [
    "#Age Column Typo Fixing\n",
    "sales['age'] = sales['age'].replace(['2_<=25'], '<=25')\n",
    "sales['age'] = sales['age'].replace(['7_>65'], '>65')\n",
    "sales['age'] = sales['age'].replace(['3_<=35'], '26-35')\n",
    "sales['age'] = sales['age'].replace(['4_<=45'], '36-45')\n",
    "sales['age'] = sales['age'].replace(['5_<=55'], '46-55')\n",
    "sales['age'] = sales['age'].replace(['6_<=65'], '56-65')\n",
    "sales['age'] = sales['age'].replace(['1_Unk'], 'Unknown')\n",
    "\n",
    "#education column typo fixing\n",
    "sales['education'] = sales['education'].replace(['0. <HS'], '<HS')\n",
    "sales['education'] = sales['education'].replace(['1. HS'], 'HS')\n",
    "sales['education'] = sales['education'].replace(['2. Some College'], 'Some College')\n",
    "sales['education'] = sales['education'].replace(['3. Bach'], 'Bach')\n",
    "sales['education'] = sales['education'].replace(['4. Grad'], 'Grad')\n",
    "\n",
    "#Mortgage Column Typo Fixing\n",
    "sales['mortgage'] = sales['mortgage'].replace(['1Low'], 'Low')\n",
    "sales['mortgage'] = sales['mortgage'].replace(['2Med'], 'Med')\n",
    "sales['mortgage'] = sales['mortgage'].replace(['3High'], 'High')\n"
   ]
  },
  {
   "cell_type": "markdown",
   "metadata": {},
   "source": [
    "### Typo Fixing for flag, gender, and online"
   ]
  },
  {
   "cell_type": "code",
   "execution_count": 15,
   "metadata": {},
   "outputs": [],
   "source": [
    "#flag Column Typo Fixing\n",
    "sales['flag'] = sales['flag'].replace(['N'], 'No')\n",
    "sales['flag'] = sales['flag'].replace(['Y'], 'Yes')\n",
    "\n",
    "#gender Column Typo Fixing\n",
    "sales['gender'] = sales['gender'].replace(['M'], 'Male')\n",
    "sales['gender'] = sales['gender'].replace(['F'], 'Female')\n",
    "sales['gender'] = sales['gender'].replace(['U'], 'Unknown')\n",
    "\n",
    "#online Column Typo Fixing\n",
    "sales['online'] = sales['online'].replace(['N'], 'No')\n",
    "sales['online'] = sales['online'].replace(['Y'], 'Yes')"
   ]
  },
  {
   "cell_type": "markdown",
   "metadata": {},
   "source": [
    "### Changing index in child column"
   ]
  },
  {
   "cell_type": "code",
   "execution_count": 16,
   "metadata": {},
   "outputs": [],
   "source": [
    "for index in sales.index:\n",
    "    if sales.loc[index, 'child'] == 'Y':\n",
    "        sales.loc[index, 'child'] = 'Yes'\n",
    "    elif sales.loc[index, 'child'] == 'N':\n",
    "        sales.loc[index, 'child'] = 'No'\n",
    "    else:\n",
    "        sales.loc[index, 'child'] = 'Unknown'"
   ]
  },
  {
   "cell_type": "code",
   "execution_count": 17,
   "metadata": {},
   "outputs": [
    {
     "name": "stdout",
     "output_type": "stream",
     "text": [
      "----------------------------------------flag---------------------------------------- - "
     ]
    },
    {
     "data": {
      "text/plain": [
       "No     20000\n",
       "Yes    20000\n",
       "Name: flag, dtype: int64"
      ]
     },
     "metadata": {},
     "output_type": "display_data"
    },
    {
     "name": "stdout",
     "output_type": "stream",
     "text": [
      "----------------------------------------gender---------------------------------------- - "
     ]
    },
    {
     "data": {
      "text/plain": [
       "Male       22019\n",
       "Female     16830\n",
       "Unknown     1151\n",
       "Name: gender, dtype: int64"
      ]
     },
     "metadata": {},
     "output_type": "display_data"
    },
    {
     "name": "stdout",
     "output_type": "stream",
     "text": [
      "----------------------------------------education---------------------------------------- - "
     ]
    },
    {
     "data": {
      "text/plain": [
       "Some College    12141\n",
       "Bach             9267\n",
       "HS               8828\n",
       "Grad             5916\n",
       "<HS              3848\n",
       "Name: education, dtype: int64"
      ]
     },
     "metadata": {},
     "output_type": "display_data"
    },
    {
     "name": "stdout",
     "output_type": "stream",
     "text": [
      "----------------------------------------house_val---------------------------------------- - "
     ]
    },
    {
     "data": {
      "text/plain": [
       "0          7696\n",
       "1000000      96\n",
       "1500000      51\n",
       "2000000      36\n",
       "294300       29\n",
       "228900       23\n",
       "5000         22\n",
       "261600       22\n",
       "239800       21\n",
       "299750       20\n",
       "163500       20\n",
       "251790       19\n",
       "170040       19\n",
       "245250       19\n",
       "179850       18\n",
       "196200       18\n",
       "272500       18\n",
       "408750       17\n",
       "147150       17\n",
       "343350       17\n",
       "Name: house_val, dtype: int64"
      ]
     },
     "metadata": {},
     "output_type": "display_data"
    },
    {
     "name": "stdout",
     "output_type": "stream",
     "text": [
      "----------------------------------------age---------------------------------------- - "
     ]
    },
    {
     "data": {
      "text/plain": [
       "46-55      8103\n",
       "36-45      7115\n",
       "Unknown    6709\n",
       "56-65      5907\n",
       "26-35      4984\n",
       ">65        4822\n",
       "<=25       2360\n",
       "Name: age, dtype: int64"
      ]
     },
     "metadata": {},
     "output_type": "display_data"
    },
    {
     "name": "stdout",
     "output_type": "stream",
     "text": [
      "----------------------------------------online---------------------------------------- - "
     ]
    },
    {
     "data": {
      "text/plain": [
       "Yes    27319\n",
       "No     12681\n",
       "Name: online, dtype: int64"
      ]
     },
     "metadata": {},
     "output_type": "display_data"
    },
    {
     "name": "stdout",
     "output_type": "stream",
     "text": [
      "----------------------------------------customer_psy---------------------------------------- - "
     ]
    },
    {
     "data": {
      "text/plain": [
       "B    8197\n",
       "C    7830\n",
       "E    6650\n",
       "F    4058\n",
       "G    3951\n",
       "D    2353\n",
       "I    2262\n",
       "J    2187\n",
       "A    1427\n",
       "H     958\n",
       "U     127\n",
       "Name: customer_psy, dtype: int64"
      ]
     },
     "metadata": {},
     "output_type": "display_data"
    },
    {
     "name": "stdout",
     "output_type": "stream",
     "text": [
      "----------------------------------------marriage---------------------------------------- - "
     ]
    },
    {
     "data": {
      "text/plain": [
       "Married    34918\n",
       "Single      5082\n",
       "Name: marriage, dtype: int64"
      ]
     },
     "metadata": {},
     "output_type": "display_data"
    },
    {
     "name": "stdout",
     "output_type": "stream",
     "text": [
      "----------------------------------------child---------------------------------------- - "
     ]
    },
    {
     "data": {
      "text/plain": [
       "Yes        18012\n",
       "No         13333\n",
       "Unknown     8655\n",
       "Name: child, dtype: int64"
      ]
     },
     "metadata": {},
     "output_type": "display_data"
    },
    {
     "name": "stdout",
     "output_type": "stream",
     "text": [
      "----------------------------------------occupation---------------------------------------- - "
     ]
    },
    {
     "data": {
      "text/plain": [
       "Professional     14936\n",
       "Sales/Service    11767\n",
       "Blue Collar       6621\n",
       "Retired           4341\n",
       "Others            2006\n",
       "Farm               329\n",
       "Name: occupation, dtype: int64"
      ]
     },
     "metadata": {},
     "output_type": "display_data"
    },
    {
     "name": "stdout",
     "output_type": "stream",
     "text": [
      "----------------------------------------mortgage---------------------------------------- - "
     ]
    },
    {
     "data": {
      "text/plain": [
       "Low     29848\n",
       "High     5349\n",
       "Med      4803\n",
       "Name: mortgage, dtype: int64"
      ]
     },
     "metadata": {},
     "output_type": "display_data"
    },
    {
     "name": "stdout",
     "output_type": "stream",
     "text": [
      "----------------------------------------house_owner---------------------------------------- - "
     ]
    },
    {
     "data": {
      "text/plain": [
       "Owner     32609\n",
       "Renter     7391\n",
       "Name: house_owner, dtype: int64"
      ]
     },
     "metadata": {},
     "output_type": "display_data"
    },
    {
     "name": "stdout",
     "output_type": "stream",
     "text": [
      "----------------------------------------region---------------------------------------- - "
     ]
    },
    {
     "data": {
      "text/plain": [
       "South        15676\n",
       "West          8725\n",
       "Midwest       8107\n",
       "Northeast     7247\n",
       "Rest           245\n",
       "Name: region, dtype: int64"
      ]
     },
     "metadata": {},
     "output_type": "display_data"
    },
    {
     "name": "stdout",
     "output_type": "stream",
     "text": [
      "----------------------------------------fam_income---------------------------------------- - "
     ]
    },
    {
     "data": {
      "text/plain": [
       "E    8432\n",
       "F    6641\n",
       "D    4582\n",
       "G    4224\n",
       "C    2687\n",
       "H    2498\n",
       "A    2274\n",
       "B    2169\n",
       "I    1622\n",
       "L    1617\n",
       "J    1614\n",
       "K    1487\n",
       "U     153\n",
       "Name: fam_income, dtype: int64"
      ]
     },
     "metadata": {},
     "output_type": "display_data"
    }
   ],
   "source": [
    "for col in sales.columns:\n",
    "    print('-' * 40 + col + '-' * 40 , end=' - ')\n",
    "    display(sales[col].value_counts().head(20))"
   ]
  },
  {
   "cell_type": "markdown",
   "metadata": {},
   "source": [
    "Now that the data is already cleansed, we need to consider whether we need to remove data that contain any\n",
    "Unknown value? Should the sales team need to know all information about a customer to make a prediction\n",
    "or are they allowed to fill some variable with Unknown? In this step we need to discuss with the sales team\n",
    "since they are the final user of the model.\n",
    "\n",
    "Let’s say together with the sales team we have decided that any data that contain missing value should not\n",
    "be used for analysis Therefore, we will drop/remove any row/customer that has missing information about\n",
    "them.\n",
    "\n",
    "Finally, after careful and rigorous data cleansing, we acquire our final data that will be used for analysis and\n",
    "modeling."
   ]
  },
  {
   "cell_type": "code",
   "execution_count": 18,
   "metadata": {},
   "outputs": [
    {
     "data": {
      "text/html": [
       "<div>\n",
       "<style scoped>\n",
       "    .dataframe tbody tr th:only-of-type {\n",
       "        vertical-align: middle;\n",
       "    }\n",
       "\n",
       "    .dataframe tbody tr th {\n",
       "        vertical-align: top;\n",
       "    }\n",
       "\n",
       "    .dataframe thead th {\n",
       "        text-align: right;\n",
       "    }\n",
       "</style>\n",
       "<table border=\"1\" class=\"dataframe\">\n",
       "  <thead>\n",
       "    <tr style=\"text-align: right;\">\n",
       "      <th></th>\n",
       "      <th>flag</th>\n",
       "      <th>gender</th>\n",
       "      <th>education</th>\n",
       "      <th>house_val</th>\n",
       "      <th>age</th>\n",
       "      <th>online</th>\n",
       "      <th>customer_psy</th>\n",
       "      <th>marriage</th>\n",
       "      <th>child</th>\n",
       "      <th>occupation</th>\n",
       "      <th>mortgage</th>\n",
       "      <th>house_owner</th>\n",
       "      <th>region</th>\n",
       "      <th>fam_income</th>\n",
       "    </tr>\n",
       "  </thead>\n",
       "  <tbody>\n",
       "    <tr>\n",
       "      <th>0</th>\n",
       "      <td>Yes</td>\n",
       "      <td>Male</td>\n",
       "      <td>Grad</td>\n",
       "      <td>756460</td>\n",
       "      <td>Unknown</td>\n",
       "      <td>No</td>\n",
       "      <td>B</td>\n",
       "      <td>Married</td>\n",
       "      <td>Unknown</td>\n",
       "      <td>Professional</td>\n",
       "      <td>Low</td>\n",
       "      <td>Owner</td>\n",
       "      <td>Midwest</td>\n",
       "      <td>L</td>\n",
       "    </tr>\n",
       "    <tr>\n",
       "      <th>1</th>\n",
       "      <td>No</td>\n",
       "      <td>Female</td>\n",
       "      <td>Bach</td>\n",
       "      <td>213171</td>\n",
       "      <td>&gt;65</td>\n",
       "      <td>No</td>\n",
       "      <td>E</td>\n",
       "      <td>Married</td>\n",
       "      <td>Unknown</td>\n",
       "      <td>Professional</td>\n",
       "      <td>Low</td>\n",
       "      <td>Owner</td>\n",
       "      <td>Northeast</td>\n",
       "      <td>G</td>\n",
       "    </tr>\n",
       "    <tr>\n",
       "      <th>2</th>\n",
       "      <td>No</td>\n",
       "      <td>Male</td>\n",
       "      <td>Some College</td>\n",
       "      <td>111147</td>\n",
       "      <td>&lt;=25</td>\n",
       "      <td>Yes</td>\n",
       "      <td>C</td>\n",
       "      <td>Married</td>\n",
       "      <td>Yes</td>\n",
       "      <td>Professional</td>\n",
       "      <td>Low</td>\n",
       "      <td>Owner</td>\n",
       "      <td>Midwest</td>\n",
       "      <td>J</td>\n",
       "    </tr>\n",
       "    <tr>\n",
       "      <th>3</th>\n",
       "      <td>Yes</td>\n",
       "      <td>Male</td>\n",
       "      <td>Some College</td>\n",
       "      <td>354151</td>\n",
       "      <td>&lt;=25</td>\n",
       "      <td>Yes</td>\n",
       "      <td>B</td>\n",
       "      <td>Single</td>\n",
       "      <td>Unknown</td>\n",
       "      <td>Sales/Service</td>\n",
       "      <td>Low</td>\n",
       "      <td>Owner</td>\n",
       "      <td>West</td>\n",
       "      <td>L</td>\n",
       "    </tr>\n",
       "    <tr>\n",
       "      <th>4</th>\n",
       "      <td>Yes</td>\n",
       "      <td>Female</td>\n",
       "      <td>Some College</td>\n",
       "      <td>117087</td>\n",
       "      <td>Unknown</td>\n",
       "      <td>Yes</td>\n",
       "      <td>J</td>\n",
       "      <td>Married</td>\n",
       "      <td>Yes</td>\n",
       "      <td>Sales/Service</td>\n",
       "      <td>Low</td>\n",
       "      <td>Owner</td>\n",
       "      <td>South</td>\n",
       "      <td>H</td>\n",
       "    </tr>\n",
       "  </tbody>\n",
       "</table>\n",
       "</div>"
      ],
      "text/plain": [
       "  flag  gender     education  house_val      age online customer_psy marriage  \\\n",
       "0  Yes    Male          Grad     756460  Unknown     No            B  Married   \n",
       "1   No  Female          Bach     213171      >65     No            E  Married   \n",
       "2   No    Male  Some College     111147     <=25    Yes            C  Married   \n",
       "3  Yes    Male  Some College     354151     <=25    Yes            B   Single   \n",
       "4  Yes  Female  Some College     117087  Unknown    Yes            J  Married   \n",
       "\n",
       "     child     occupation mortgage house_owner     region fam_income  \n",
       "0  Unknown   Professional      Low       Owner    Midwest          L  \n",
       "1  Unknown   Professional      Low       Owner  Northeast          G  \n",
       "2      Yes   Professional      Low       Owner    Midwest          J  \n",
       "3  Unknown  Sales/Service      Low       Owner       West          L  \n",
       "4      Yes  Sales/Service      Low       Owner      South          H  "
      ]
     },
     "execution_count": 18,
     "metadata": {},
     "output_type": "execute_result"
    }
   ],
   "source": [
    "sales.head()"
   ]
  },
  {
   "cell_type": "markdown",
   "metadata": {},
   "source": [
    "**Removing unknown values**"
   ]
  },
  {
   "cell_type": "code",
   "execution_count": 19,
   "metadata": {},
   "outputs": [],
   "source": [
    "sales = sales[sales['child'] != \"Unknown\"]"
   ]
  },
  {
   "cell_type": "code",
   "execution_count": 20,
   "metadata": {},
   "outputs": [
    {
     "data": {
      "text/html": [
       "<div>\n",
       "<style scoped>\n",
       "    .dataframe tbody tr th:only-of-type {\n",
       "        vertical-align: middle;\n",
       "    }\n",
       "\n",
       "    .dataframe tbody tr th {\n",
       "        vertical-align: top;\n",
       "    }\n",
       "\n",
       "    .dataframe thead th {\n",
       "        text-align: right;\n",
       "    }\n",
       "</style>\n",
       "<table border=\"1\" class=\"dataframe\">\n",
       "  <thead>\n",
       "    <tr style=\"text-align: right;\">\n",
       "      <th></th>\n",
       "      <th>flag</th>\n",
       "      <th>gender</th>\n",
       "      <th>education</th>\n",
       "      <th>house_val</th>\n",
       "      <th>age</th>\n",
       "      <th>online</th>\n",
       "      <th>customer_psy</th>\n",
       "      <th>marriage</th>\n",
       "      <th>child</th>\n",
       "      <th>occupation</th>\n",
       "      <th>mortgage</th>\n",
       "      <th>house_owner</th>\n",
       "      <th>region</th>\n",
       "      <th>fam_income</th>\n",
       "    </tr>\n",
       "  </thead>\n",
       "  <tbody>\n",
       "    <tr>\n",
       "      <th>2</th>\n",
       "      <td>No</td>\n",
       "      <td>Male</td>\n",
       "      <td>Some College</td>\n",
       "      <td>111147</td>\n",
       "      <td>&lt;=25</td>\n",
       "      <td>Yes</td>\n",
       "      <td>C</td>\n",
       "      <td>Married</td>\n",
       "      <td>Yes</td>\n",
       "      <td>Professional</td>\n",
       "      <td>Low</td>\n",
       "      <td>Owner</td>\n",
       "      <td>Midwest</td>\n",
       "      <td>J</td>\n",
       "    </tr>\n",
       "    <tr>\n",
       "      <th>4</th>\n",
       "      <td>Yes</td>\n",
       "      <td>Female</td>\n",
       "      <td>Some College</td>\n",
       "      <td>117087</td>\n",
       "      <td>Unknown</td>\n",
       "      <td>Yes</td>\n",
       "      <td>J</td>\n",
       "      <td>Married</td>\n",
       "      <td>Yes</td>\n",
       "      <td>Sales/Service</td>\n",
       "      <td>Low</td>\n",
       "      <td>Owner</td>\n",
       "      <td>South</td>\n",
       "      <td>H</td>\n",
       "    </tr>\n",
       "    <tr>\n",
       "      <th>5</th>\n",
       "      <td>Yes</td>\n",
       "      <td>Female</td>\n",
       "      <td>Bach</td>\n",
       "      <td>248694</td>\n",
       "      <td>56-65</td>\n",
       "      <td>Yes</td>\n",
       "      <td>B</td>\n",
       "      <td>Married</td>\n",
       "      <td>No</td>\n",
       "      <td>Professional</td>\n",
       "      <td>Med</td>\n",
       "      <td>Owner</td>\n",
       "      <td>West</td>\n",
       "      <td>G</td>\n",
       "    </tr>\n",
       "    <tr>\n",
       "      <th>7</th>\n",
       "      <td>No</td>\n",
       "      <td>Female</td>\n",
       "      <td>Bach</td>\n",
       "      <td>416925</td>\n",
       "      <td>46-55</td>\n",
       "      <td>Yes</td>\n",
       "      <td>C</td>\n",
       "      <td>Married</td>\n",
       "      <td>Yes</td>\n",
       "      <td>Professional</td>\n",
       "      <td>Low</td>\n",
       "      <td>Owner</td>\n",
       "      <td>South</td>\n",
       "      <td>I</td>\n",
       "    </tr>\n",
       "    <tr>\n",
       "      <th>8</th>\n",
       "      <td>No</td>\n",
       "      <td>Female</td>\n",
       "      <td>HS</td>\n",
       "      <td>207676</td>\n",
       "      <td>36-45</td>\n",
       "      <td>Yes</td>\n",
       "      <td>G</td>\n",
       "      <td>Married</td>\n",
       "      <td>Yes</td>\n",
       "      <td>Blue Collar</td>\n",
       "      <td>Low</td>\n",
       "      <td>Renter</td>\n",
       "      <td>West</td>\n",
       "      <td>D</td>\n",
       "    </tr>\n",
       "  </tbody>\n",
       "</table>\n",
       "</div>"
      ],
      "text/plain": [
       "  flag  gender     education  house_val      age online customer_psy marriage  \\\n",
       "2   No    Male  Some College     111147     <=25    Yes            C  Married   \n",
       "4  Yes  Female  Some College     117087  Unknown    Yes            J  Married   \n",
       "5  Yes  Female          Bach     248694    56-65    Yes            B  Married   \n",
       "7   No  Female          Bach     416925    46-55    Yes            C  Married   \n",
       "8   No  Female            HS     207676    36-45    Yes            G  Married   \n",
       "\n",
       "  child     occupation mortgage house_owner   region fam_income  \n",
       "2   Yes   Professional      Low       Owner  Midwest          J  \n",
       "4   Yes  Sales/Service      Low       Owner    South          H  \n",
       "5    No   Professional      Med       Owner     West          G  \n",
       "7   Yes   Professional      Low       Owner    South          I  \n",
       "8   Yes    Blue Collar      Low      Renter     West          D  "
      ]
     },
     "execution_count": 20,
     "metadata": {},
     "output_type": "execute_result"
    }
   ],
   "source": [
    "sales.head()"
   ]
  },
  {
   "cell_type": "code",
   "execution_count": 21,
   "metadata": {},
   "outputs": [],
   "source": [
    "sales = sales[sales['age'] != \"Unknown\"]"
   ]
  },
  {
   "cell_type": "code",
   "execution_count": 22,
   "metadata": {},
   "outputs": [],
   "source": [
    "sales = sales[sales['child'] != \"Unknown\"]"
   ]
  },
  {
   "cell_type": "code",
   "execution_count": 23,
   "metadata": {},
   "outputs": [
    {
     "data": {
      "text/html": [
       "<div>\n",
       "<style scoped>\n",
       "    .dataframe tbody tr th:only-of-type {\n",
       "        vertical-align: middle;\n",
       "    }\n",
       "\n",
       "    .dataframe tbody tr th {\n",
       "        vertical-align: top;\n",
       "    }\n",
       "\n",
       "    .dataframe thead th {\n",
       "        text-align: right;\n",
       "    }\n",
       "</style>\n",
       "<table border=\"1\" class=\"dataframe\">\n",
       "  <thead>\n",
       "    <tr style=\"text-align: right;\">\n",
       "      <th></th>\n",
       "      <th>flag</th>\n",
       "      <th>gender</th>\n",
       "      <th>education</th>\n",
       "      <th>house_val</th>\n",
       "      <th>age</th>\n",
       "      <th>online</th>\n",
       "      <th>customer_psy</th>\n",
       "      <th>marriage</th>\n",
       "      <th>child</th>\n",
       "      <th>occupation</th>\n",
       "      <th>mortgage</th>\n",
       "      <th>house_owner</th>\n",
       "      <th>region</th>\n",
       "      <th>fam_income</th>\n",
       "    </tr>\n",
       "  </thead>\n",
       "  <tbody>\n",
       "    <tr>\n",
       "      <th>2</th>\n",
       "      <td>No</td>\n",
       "      <td>Male</td>\n",
       "      <td>Some College</td>\n",
       "      <td>111147</td>\n",
       "      <td>&lt;=25</td>\n",
       "      <td>Yes</td>\n",
       "      <td>C</td>\n",
       "      <td>Married</td>\n",
       "      <td>Yes</td>\n",
       "      <td>Professional</td>\n",
       "      <td>Low</td>\n",
       "      <td>Owner</td>\n",
       "      <td>Midwest</td>\n",
       "      <td>J</td>\n",
       "    </tr>\n",
       "    <tr>\n",
       "      <th>5</th>\n",
       "      <td>Yes</td>\n",
       "      <td>Female</td>\n",
       "      <td>Bach</td>\n",
       "      <td>248694</td>\n",
       "      <td>56-65</td>\n",
       "      <td>Yes</td>\n",
       "      <td>B</td>\n",
       "      <td>Married</td>\n",
       "      <td>No</td>\n",
       "      <td>Professional</td>\n",
       "      <td>Med</td>\n",
       "      <td>Owner</td>\n",
       "      <td>West</td>\n",
       "      <td>G</td>\n",
       "    </tr>\n",
       "    <tr>\n",
       "      <th>7</th>\n",
       "      <td>No</td>\n",
       "      <td>Female</td>\n",
       "      <td>Bach</td>\n",
       "      <td>416925</td>\n",
       "      <td>46-55</td>\n",
       "      <td>Yes</td>\n",
       "      <td>C</td>\n",
       "      <td>Married</td>\n",
       "      <td>Yes</td>\n",
       "      <td>Professional</td>\n",
       "      <td>Low</td>\n",
       "      <td>Owner</td>\n",
       "      <td>South</td>\n",
       "      <td>I</td>\n",
       "    </tr>\n",
       "    <tr>\n",
       "      <th>8</th>\n",
       "      <td>No</td>\n",
       "      <td>Female</td>\n",
       "      <td>HS</td>\n",
       "      <td>207676</td>\n",
       "      <td>36-45</td>\n",
       "      <td>Yes</td>\n",
       "      <td>G</td>\n",
       "      <td>Married</td>\n",
       "      <td>Yes</td>\n",
       "      <td>Blue Collar</td>\n",
       "      <td>Low</td>\n",
       "      <td>Renter</td>\n",
       "      <td>West</td>\n",
       "      <td>D</td>\n",
       "    </tr>\n",
       "    <tr>\n",
       "      <th>10</th>\n",
       "      <td>No</td>\n",
       "      <td>Male</td>\n",
       "      <td>Some College</td>\n",
       "      <td>158268</td>\n",
       "      <td>&gt;65</td>\n",
       "      <td>Yes</td>\n",
       "      <td>C</td>\n",
       "      <td>Married</td>\n",
       "      <td>Yes</td>\n",
       "      <td>Sales/Service</td>\n",
       "      <td>Med</td>\n",
       "      <td>Owner</td>\n",
       "      <td>Midwest</td>\n",
       "      <td>E</td>\n",
       "    </tr>\n",
       "  </tbody>\n",
       "</table>\n",
       "</div>"
      ],
      "text/plain": [
       "   flag  gender     education  house_val    age online customer_psy marriage  \\\n",
       "2    No    Male  Some College     111147   <=25    Yes            C  Married   \n",
       "5   Yes  Female          Bach     248694  56-65    Yes            B  Married   \n",
       "7    No  Female          Bach     416925  46-55    Yes            C  Married   \n",
       "8    No  Female            HS     207676  36-45    Yes            G  Married   \n",
       "10   No    Male  Some College     158268    >65    Yes            C  Married   \n",
       "\n",
       "   child     occupation mortgage house_owner   region fam_income  \n",
       "2    Yes   Professional      Low       Owner  Midwest          J  \n",
       "5     No   Professional      Med       Owner     West          G  \n",
       "7    Yes   Professional      Low       Owner    South          I  \n",
       "8    Yes    Blue Collar      Low      Renter     West          D  \n",
       "10   Yes  Sales/Service      Med       Owner  Midwest          E  "
      ]
     },
     "execution_count": 23,
     "metadata": {},
     "output_type": "execute_result"
    }
   ],
   "source": [
    "sales.head()"
   ]
  },
  {
   "cell_type": "markdown",
   "metadata": {},
   "source": [
    "As expected, CRISP-DM is not a linear process. We can go back and forth between process to make sure\n",
    "it fits the business and data mining goal. Here, we go back to data understanding phase to further explore\n",
    "and analyze the data before we start to make a machine learning model."
   ]
  },
  {
   "cell_type": "markdown",
   "metadata": {},
   "source": [
    " "
   ]
  },
  {
   "cell_type": "markdown",
   "metadata": {},
   "source": [
    "# Exploratory Data Analysis (EDA)"
   ]
  },
  {
   "cell_type": "markdown",
   "metadata": {},
   "source": [
    "**House Valuation Distribution**\n",
    "\n",
    "Here we will do visualization to see whether there are any difference between customer who buy our product\n",
    "and who don’t. To visualize a distribution, we can use histogram. The x-axis is the house valuation while\n",
    "the y-axis show the frequency or the number of customer with certain house valuation.\n",
    "\n",
    "From the histogram, most of our customer has house valuation less than 2,500,000. Some customers are\n",
    "outlier and has house valuation greater than 2,500,000. Their frequency is low and they cannot be seen\n",
    "on the histogram. The distribution for people who buy and not buy are quite similar, therefore we cannot\n",
    "simply decide if a customer will buy our product based on their house valuation."
   ]
  },
  {
   "cell_type": "code",
   "execution_count": 24,
   "metadata": {},
   "outputs": [
    {
     "name": "stderr",
     "output_type": "stream",
     "text": [
      "C:\\Users\\Dimas AR\\anaconda3\\lib\\site-packages\\numpy\\core\\_asarray.py:83: VisibleDeprecationWarning: Creating an ndarray from ragged nested sequences (which is a list-or-tuple of lists-or-tuples-or ndarrays with different lengths or shapes) is deprecated. If you meant to do this, you must specify 'dtype=object' when creating the ndarray\n",
      "  return array(a, dtype, copy=False, order=order)\n"
     ]
    },
    {
     "data": {
      "text/plain": [
       "Text(0.5, 1.0, 'House Valuation Distribution')"
      ]
     },
     "execution_count": 24,
     "metadata": {},
     "output_type": "execute_result"
    },
    {
     "data": {
      "image/png": "[encoded data removed]",
      "text/plain": [
       "<Figure size 720x504 with 1 Axes>"
      ]
     },
     "metadata": {
      "needs_background": "light"
     },
     "output_type": "display_data"
    }
   ],
   "source": [
    "import matplotlib.ticker as mtick\n",
    "#Separate list for each flag\n",
    "yes = list(sales[sales['flag'] == 'Yes']['house_val'])\n",
    "no = list(sales[sales['flag'] == 'No']['house_val'])\n",
    "\n",
    "# Assign colors for each flag and set as names\n",
    "colors = ['#E69F00', '#56B4E9']\n",
    "Flag = ['No', 'Yes']\n",
    "\n",
    "# Make the histogram using a list of lists\n",
    "# we dont use normalize first\n",
    "f, ax = plt.subplots(figsize=(10,7))\n",
    "plt.hist([yes, no], bins=25, stacked=True,range=(0,10000000), rwidth=0.9, color = colors, label=Flag)\n",
    "fmt = '{x:,.0f}'\n",
    "tick = mtick.StrMethodFormatter(fmt)\n",
    "ax.xaxis.set_major_formatter(tick) \n",
    "ax.xaxis.set_major_locator(plt.MaxNLocator(5))\n",
    "ax.yaxis.set_major_locator(plt.MaxNLocator(5))\n",
    "plt.grid(b=True, which='major', color='#999999', linestyle='-', alpha=0.4)\n",
    "\n",
    "# Plot formatting\n",
    "plt.legend()\n",
    "plt.xlabel('House Valuation')\n",
    "plt.ylabel('Frequency')\n",
    "plt.title('House Valuation Distribution')"
   ]
  },
  {
   "cell_type": "markdown",
   "metadata": {},
   "source": [
    "We can cut and remove the outlier to see the distribution better."
   ]
  },
  {
   "cell_type": "code",
   "execution_count": 25,
   "metadata": {},
   "outputs": [
    {
     "data": {
      "text/plain": [
       "Text(0.5, 1.0, 'House Valuation Distribution')"
      ]
     },
     "execution_count": 25,
     "metadata": {},
     "output_type": "execute_result"
    },
    {
     "data": {
      "image/png": "[encoded data removed]",
      "text/plain": [
       "<Figure size 720x504 with 1 Axes>"
      ]
     },
     "metadata": {
      "needs_background": "light"
     },
     "output_type": "display_data"
    }
   ],
   "source": [
    "import matplotlib.ticker as mtick\n",
    "#Separate list for each flag\n",
    "yes = list(sales[sales['flag'] == 'Yes']['house_val'])\n",
    "no = list(sales[sales['flag'] == 'No']['house_val'])\n",
    "\n",
    "# Assign colors for each flag and set as names\n",
    "colors = ['#E69F00', '#56B4E9']\n",
    "Flag = ['No', 'Yes']\n",
    "\n",
    "# Make the histogram using a list of lists\n",
    "# we dont use normalize first\n",
    "f, ax = plt.subplots(figsize=(10,7))\n",
    "plt.hist([yes, no], bins=25, stacked=True,range=(0,2000000), rwidth=0.9, color = colors, label=Flag)\n",
    "fmt = '{x:,.0f}'\n",
    "tick = mtick.StrMethodFormatter(fmt)\n",
    "ax.xaxis.set_major_formatter(tick) \n",
    "ax.xaxis.set_major_locator(plt.MaxNLocator(5))\n",
    "ax.yaxis.set_major_locator(plt.MaxNLocator(5))\n",
    "plt.grid(b=True, which='major', color='#999999', linestyle='-', alpha=0.4)\n",
    "\n",
    "# Plot formatting\n",
    "plt.legend()\n",
    "plt.xlabel('House Valuation')\n",
    "plt.ylabel('Frequency')\n",
    "plt.title('House Valuation Distribution')"
   ]
  },
  {
   "cell_type": "markdown",
   "metadata": {},
   "source": [
    " "
   ]
  },
  {
   "cell_type": "markdown",
   "metadata": {},
   "source": [
    "**Education Level**\n",
    "\n",
    "We will see if the education level can be a great indicator to decide if a customer has high probability to\n",
    "buy our product. The color of each block represent the frequency of people that fell in that category, with\n",
    "brighter color indicate higher frequency.\n",
    "\n",
    "Based on the heatmap, people with higher education level (Bach and Grad) are more likely to buy our\n",
    "product. Therefore, education level may be a great indicator to check potential customer."
   ]
  },
  {
   "cell_type": "code",
   "execution_count": 26,
   "metadata": {},
   "outputs": [
    {
     "data": {
      "text/plain": [
       "107"
      ]
     },
     "execution_count": 26,
     "metadata": {},
     "output_type": "execute_result"
    }
   ],
   "source": [
    "sales.duplicated().sum()"
   ]
  },
  {
   "cell_type": "code",
   "execution_count": 27,
   "metadata": {},
   "outputs": [
    {
     "data": {
      "text/plain": [
       "(26668, 14)"
      ]
     },
     "execution_count": 27,
     "metadata": {},
     "output_type": "execute_result"
    }
   ],
   "source": [
    "sales.drop_duplicates(keep=False).shape"
   ]
  },
  {
   "cell_type": "code",
   "execution_count": 28,
   "metadata": {},
   "outputs": [
    {
     "data": {
      "image/png": "[encoded data removed]",
      "text/plain": [
       "<Figure size 1152x432 with 2 Axes>"
      ]
     },
     "metadata": {
      "needs_background": "light"
     },
     "output_type": "display_data"
    }
   ],
   "source": [
    "import matplotlib.pyplot as plt\n",
    "import seaborn as sns\n",
    "from matplotlib.ticker import FuncFormatter\n",
    "\n",
    "edu_level = sales.reset_index().pivot_table(index=\"flag\", columns = \"education\", values = \"house_val\", aggfunc=\"count\")\n",
    "f, ax = plt.subplots(figsize=(16, 6))\n",
    "comma_fmt = FuncFormatter(lambda x, p: format(int(x), ','))\n",
    "sns.set(font_scale=1.5)\n",
    "sns.heatmap(edu_level, annot=True,  linewidths=.5,fmt='g',cmap=\"viridis\",cbar_kws={'label': 'Frequency','format':comma_fmt}, ax=ax)\n",
    "\n",
    "plt.show()"
   ]
  },
  {
   "cell_type": "markdown",
   "metadata": {},
   "source": [
    " "
   ]
  },
  {
   "cell_type": "markdown",
   "metadata": {},
   "source": [
    "**Occupation**\n",
    "\n",
    "We will do the same thing here with the occupation/job. The one that stands out is the professional\n",
    "occupation that has a very high frequency of people who buy our product."
   ]
  },
  {
   "cell_type": "code",
   "execution_count": 29,
   "metadata": {},
   "outputs": [
    {
     "data": {
      "image/png": "[encoded data removed]",
      "text/plain": [
       "<Figure size 1152x432 with 2 Axes>"
      ]
     },
     "metadata": {},
     "output_type": "display_data"
    }
   ],
   "source": [
    "occ_level = sales.reset_index().pivot_table(index=\"flag\", columns = \"occupation\", values = \"house_val\", aggfunc=\"count\")\n",
    "f, ax = plt.subplots(figsize=(16, 6))\n",
    "comma_fmt = FuncFormatter(lambda x, p: format(int(x), ','))\n",
    "sns.set(font_scale=1.5)\n",
    "sns.heatmap(occ_level, annot=True,  linewidths=.5,fmt='g',cmap=\"viridis\",cbar_kws={'label': 'Frequency','format':comma_fmt}, ax=ax)\n",
    "\n",
    "plt.show()"
   ]
  },
  {
   "cell_type": "markdown",
   "metadata": {},
   "source": [
    " "
   ]
  },
  {
   "cell_type": "markdown",
   "metadata": {},
   "source": [
    "## Modelling"
   ]
  },
  {
   "cell_type": "markdown",
   "metadata": {},
   "source": [
    "On the Modeling phase, we will start creating model to find pattern inside our data and to make future\n",
    "prediction for business purpose.\n",
    "\n",
    "The deliverable or result of this phase should include:\n",
    "\n",
    "- Modeling Technique and assumption\n",
    "- Model Description\n",
    "- Model Evaluation\n",
    "\n",
    "Before we begin apply a Machine Learning model to the data, we need to **transform the data** into a proper format"
   ]
  },
  {
   "cell_type": "code",
   "execution_count": 30,
   "metadata": {},
   "outputs": [],
   "source": [
    "from sklearn.preprocessing import LabelEncoder\n",
    "le = LabelEncoder()\n",
    "sales.flag= le.fit_transform(sales.flag.values)\n",
    "sales.online= le.fit_transform(sales.online.values)"
   ]
  },
  {
   "cell_type": "code",
   "execution_count": 31,
   "metadata": {},
   "outputs": [
    {
     "data": {
      "text/plain": [
       "flag             int32\n",
       "gender          object\n",
       "education       object\n",
       "house_val        int64\n",
       "age             object\n",
       "online           int32\n",
       "customer_psy    object\n",
       "marriage        object\n",
       "child           object\n",
       "occupation      object\n",
       "mortgage        object\n",
       "house_owner     object\n",
       "region          object\n",
       "fam_income      object\n",
       "dtype: object"
      ]
     },
     "execution_count": 31,
     "metadata": {},
     "output_type": "execute_result"
    }
   ],
   "source": [
    "sales.dtypes"
   ]
  },
  {
   "cell_type": "code",
   "execution_count": 32,
   "metadata": {},
   "outputs": [
    {
     "data": {
      "text/html": [
       "<div>\n",
       "<style scoped>\n",
       "    .dataframe tbody tr th:only-of-type {\n",
       "        vertical-align: middle;\n",
       "    }\n",
       "\n",
       "    .dataframe tbody tr th {\n",
       "        vertical-align: top;\n",
       "    }\n",
       "\n",
       "    .dataframe thead th {\n",
       "        text-align: right;\n",
       "    }\n",
       "</style>\n",
       "<table border=\"1\" class=\"dataframe\">\n",
       "  <thead>\n",
       "    <tr style=\"text-align: right;\">\n",
       "      <th></th>\n",
       "      <th>flag</th>\n",
       "      <th>gender</th>\n",
       "      <th>education</th>\n",
       "      <th>house_val</th>\n",
       "      <th>age</th>\n",
       "      <th>online</th>\n",
       "      <th>customer_psy</th>\n",
       "      <th>marriage</th>\n",
       "      <th>child</th>\n",
       "      <th>occupation</th>\n",
       "      <th>mortgage</th>\n",
       "      <th>house_owner</th>\n",
       "      <th>region</th>\n",
       "      <th>fam_income</th>\n",
       "    </tr>\n",
       "  </thead>\n",
       "  <tbody>\n",
       "    <tr>\n",
       "      <th>2</th>\n",
       "      <td>0</td>\n",
       "      <td>Male</td>\n",
       "      <td>Some College</td>\n",
       "      <td>111147</td>\n",
       "      <td>&lt;=25</td>\n",
       "      <td>1</td>\n",
       "      <td>C</td>\n",
       "      <td>Married</td>\n",
       "      <td>Yes</td>\n",
       "      <td>Professional</td>\n",
       "      <td>Low</td>\n",
       "      <td>Owner</td>\n",
       "      <td>Midwest</td>\n",
       "      <td>J</td>\n",
       "    </tr>\n",
       "    <tr>\n",
       "      <th>5</th>\n",
       "      <td>1</td>\n",
       "      <td>Female</td>\n",
       "      <td>Bach</td>\n",
       "      <td>248694</td>\n",
       "      <td>56-65</td>\n",
       "      <td>1</td>\n",
       "      <td>B</td>\n",
       "      <td>Married</td>\n",
       "      <td>No</td>\n",
       "      <td>Professional</td>\n",
       "      <td>Med</td>\n",
       "      <td>Owner</td>\n",
       "      <td>West</td>\n",
       "      <td>G</td>\n",
       "    </tr>\n",
       "    <tr>\n",
       "      <th>7</th>\n",
       "      <td>0</td>\n",
       "      <td>Female</td>\n",
       "      <td>Bach</td>\n",
       "      <td>416925</td>\n",
       "      <td>46-55</td>\n",
       "      <td>1</td>\n",
       "      <td>C</td>\n",
       "      <td>Married</td>\n",
       "      <td>Yes</td>\n",
       "      <td>Professional</td>\n",
       "      <td>Low</td>\n",
       "      <td>Owner</td>\n",
       "      <td>South</td>\n",
       "      <td>I</td>\n",
       "    </tr>\n",
       "    <tr>\n",
       "      <th>8</th>\n",
       "      <td>0</td>\n",
       "      <td>Female</td>\n",
       "      <td>HS</td>\n",
       "      <td>207676</td>\n",
       "      <td>36-45</td>\n",
       "      <td>1</td>\n",
       "      <td>G</td>\n",
       "      <td>Married</td>\n",
       "      <td>Yes</td>\n",
       "      <td>Blue Collar</td>\n",
       "      <td>Low</td>\n",
       "      <td>Renter</td>\n",
       "      <td>West</td>\n",
       "      <td>D</td>\n",
       "    </tr>\n",
       "    <tr>\n",
       "      <th>10</th>\n",
       "      <td>0</td>\n",
       "      <td>Male</td>\n",
       "      <td>Some College</td>\n",
       "      <td>158268</td>\n",
       "      <td>&gt;65</td>\n",
       "      <td>1</td>\n",
       "      <td>C</td>\n",
       "      <td>Married</td>\n",
       "      <td>Yes</td>\n",
       "      <td>Sales/Service</td>\n",
       "      <td>Med</td>\n",
       "      <td>Owner</td>\n",
       "      <td>Midwest</td>\n",
       "      <td>E</td>\n",
       "    </tr>\n",
       "  </tbody>\n",
       "</table>\n",
       "</div>"
      ],
      "text/plain": [
       "    flag  gender     education  house_val    age  online customer_psy  \\\n",
       "2      0    Male  Some College     111147   <=25       1            C   \n",
       "5      1  Female          Bach     248694  56-65       1            B   \n",
       "7      0  Female          Bach     416925  46-55       1            C   \n",
       "8      0  Female            HS     207676  36-45       1            G   \n",
       "10     0    Male  Some College     158268    >65       1            C   \n",
       "\n",
       "   marriage child     occupation mortgage house_owner   region fam_income  \n",
       "2   Married   Yes   Professional      Low       Owner  Midwest          J  \n",
       "5   Married    No   Professional      Med       Owner     West          G  \n",
       "7   Married   Yes   Professional      Low       Owner    South          I  \n",
       "8   Married   Yes    Blue Collar      Low      Renter     West          D  \n",
       "10  Married   Yes  Sales/Service      Med       Owner  Midwest          E  "
      ]
     },
     "execution_count": 32,
     "metadata": {},
     "output_type": "execute_result"
    }
   ],
   "source": [
    "sales.head()"
   ]
  },
  {
   "cell_type": "markdown",
   "metadata": {},
   "source": [
    "From the categorical features I'm going to transform the columns education, age, mortgage and fam_income using label encoding because they have a hierarchy. For the other categories I'll treat them as dummy variables"
   ]
  },
  {
   "cell_type": "code",
   "execution_count": 33,
   "metadata": {},
   "outputs": [],
   "source": [
    "sales.education= le.fit_transform(sales.education.values)\n",
    "sales.age= le.fit_transform(sales.age.values)\n",
    "sales.mortgage= le.fit_transform(sales.mortgage.values)\n",
    "sales.fam_income= le.fit_transform(sales.fam_income.values)"
   ]
  },
  {
   "cell_type": "code",
   "execution_count": 34,
   "metadata": {},
   "outputs": [
    {
     "data": {
      "text/plain": [
       "flag             int32\n",
       "gender          object\n",
       "education        int32\n",
       "house_val        int64\n",
       "age              int32\n",
       "online           int32\n",
       "customer_psy    object\n",
       "marriage        object\n",
       "child           object\n",
       "occupation      object\n",
       "mortgage         int32\n",
       "house_owner     object\n",
       "region          object\n",
       "fam_income       int32\n",
       "dtype: object"
      ]
     },
     "execution_count": 34,
     "metadata": {},
     "output_type": "execute_result"
    }
   ],
   "source": [
    "sales.dtypes"
   ]
  },
  {
   "cell_type": "markdown",
   "metadata": {},
   "source": [
    "Here we will transform the remaining object using dummy variables"
   ]
  },
  {
   "cell_type": "code",
   "execution_count": 35,
   "metadata": {},
   "outputs": [
    {
     "name": "stdout",
     "output_type": "stream",
     "text": [
      "gender ['Male' 'Female' 'Unknown']\n",
      "customer_psy ['C' 'B' 'G' 'I' 'F' 'E' 'J' 'D' 'A' 'H']\n",
      "occupation ['Professional' 'Blue Collar' 'Sales/Service' 'Others' 'Retired' 'Farm']\n",
      "child ['Yes' 'No']\n",
      "house_owner ['Owner' 'Renter']\n",
      "region ['Midwest' 'West' 'South' 'Northeast' 'Rest']\n",
      "marriage ['Married' 'Single']\n"
     ]
    }
   ],
   "source": [
    "dummy_features = ['gender', 'customer_psy', 'occupation', 'child', 'house_owner', 'region', 'marriage']\n",
    "for cat in dummy_features:\n",
    "    print(cat, sales[cat].unique())"
   ]
  },
  {
   "cell_type": "code",
   "execution_count": 36,
   "metadata": {},
   "outputs": [],
   "source": [
    "def apply_dummy(sales, cat, drop_first=True):\n",
    "    return pd.concat([sales, pd.get_dummies(sales[cat], prefix=cat, drop_first=drop_first)], axis=1).drop(cat, axis=1)"
   ]
  },
  {
   "cell_type": "code",
   "execution_count": 37,
   "metadata": {},
   "outputs": [],
   "source": [
    "for cat in dummy_features:\n",
    "    sales = apply_dummy(sales, cat)"
   ]
  },
  {
   "cell_type": "code",
   "execution_count": 38,
   "metadata": {},
   "outputs": [
    {
     "data": {
      "text/html": [
       "<div>\n",
       "<style scoped>\n",
       "    .dataframe tbody tr th:only-of-type {\n",
       "        vertical-align: middle;\n",
       "    }\n",
       "\n",
       "    .dataframe tbody tr th {\n",
       "        vertical-align: top;\n",
       "    }\n",
       "\n",
       "    .dataframe thead th {\n",
       "        text-align: right;\n",
       "    }\n",
       "</style>\n",
       "<table border=\"1\" class=\"dataframe\">\n",
       "  <thead>\n",
       "    <tr style=\"text-align: right;\">\n",
       "      <th></th>\n",
       "      <th>flag</th>\n",
       "      <th>education</th>\n",
       "      <th>house_val</th>\n",
       "      <th>age</th>\n",
       "      <th>online</th>\n",
       "      <th>mortgage</th>\n",
       "      <th>fam_income</th>\n",
       "      <th>gender_Male</th>\n",
       "      <th>gender_Unknown</th>\n",
       "      <th>customer_psy_B</th>\n",
       "      <th>...</th>\n",
       "      <th>occupation_Professional</th>\n",
       "      <th>occupation_Retired</th>\n",
       "      <th>occupation_Sales/Service</th>\n",
       "      <th>child_Yes</th>\n",
       "      <th>house_owner_Renter</th>\n",
       "      <th>region_Northeast</th>\n",
       "      <th>region_Rest</th>\n",
       "      <th>region_South</th>\n",
       "      <th>region_West</th>\n",
       "      <th>marriage_Single</th>\n",
       "    </tr>\n",
       "  </thead>\n",
       "  <tbody>\n",
       "    <tr>\n",
       "      <th>2</th>\n",
       "      <td>0</td>\n",
       "      <td>4</td>\n",
       "      <td>111147</td>\n",
       "      <td>4</td>\n",
       "      <td>1</td>\n",
       "      <td>1</td>\n",
       "      <td>9</td>\n",
       "      <td>1</td>\n",
       "      <td>0</td>\n",
       "      <td>0</td>\n",
       "      <td>...</td>\n",
       "      <td>1</td>\n",
       "      <td>0</td>\n",
       "      <td>0</td>\n",
       "      <td>1</td>\n",
       "      <td>0</td>\n",
       "      <td>0</td>\n",
       "      <td>0</td>\n",
       "      <td>0</td>\n",
       "      <td>0</td>\n",
       "      <td>0</td>\n",
       "    </tr>\n",
       "    <tr>\n",
       "      <th>5</th>\n",
       "      <td>1</td>\n",
       "      <td>1</td>\n",
       "      <td>248694</td>\n",
       "      <td>3</td>\n",
       "      <td>1</td>\n",
       "      <td>2</td>\n",
       "      <td>6</td>\n",
       "      <td>0</td>\n",
       "      <td>0</td>\n",
       "      <td>1</td>\n",
       "      <td>...</td>\n",
       "      <td>1</td>\n",
       "      <td>0</td>\n",
       "      <td>0</td>\n",
       "      <td>0</td>\n",
       "      <td>0</td>\n",
       "      <td>0</td>\n",
       "      <td>0</td>\n",
       "      <td>0</td>\n",
       "      <td>1</td>\n",
       "      <td>0</td>\n",
       "    </tr>\n",
       "    <tr>\n",
       "      <th>7</th>\n",
       "      <td>0</td>\n",
       "      <td>1</td>\n",
       "      <td>416925</td>\n",
       "      <td>2</td>\n",
       "      <td>1</td>\n",
       "      <td>1</td>\n",
       "      <td>8</td>\n",
       "      <td>0</td>\n",
       "      <td>0</td>\n",
       "      <td>0</td>\n",
       "      <td>...</td>\n",
       "      <td>1</td>\n",
       "      <td>0</td>\n",
       "      <td>0</td>\n",
       "      <td>1</td>\n",
       "      <td>0</td>\n",
       "      <td>0</td>\n",
       "      <td>0</td>\n",
       "      <td>1</td>\n",
       "      <td>0</td>\n",
       "      <td>0</td>\n",
       "    </tr>\n",
       "    <tr>\n",
       "      <th>8</th>\n",
       "      <td>0</td>\n",
       "      <td>3</td>\n",
       "      <td>207676</td>\n",
       "      <td>1</td>\n",
       "      <td>1</td>\n",
       "      <td>1</td>\n",
       "      <td>3</td>\n",
       "      <td>0</td>\n",
       "      <td>0</td>\n",
       "      <td>0</td>\n",
       "      <td>...</td>\n",
       "      <td>0</td>\n",
       "      <td>0</td>\n",
       "      <td>0</td>\n",
       "      <td>1</td>\n",
       "      <td>1</td>\n",
       "      <td>0</td>\n",
       "      <td>0</td>\n",
       "      <td>0</td>\n",
       "      <td>1</td>\n",
       "      <td>0</td>\n",
       "    </tr>\n",
       "    <tr>\n",
       "      <th>10</th>\n",
       "      <td>0</td>\n",
       "      <td>4</td>\n",
       "      <td>158268</td>\n",
       "      <td>5</td>\n",
       "      <td>1</td>\n",
       "      <td>2</td>\n",
       "      <td>4</td>\n",
       "      <td>1</td>\n",
       "      <td>0</td>\n",
       "      <td>0</td>\n",
       "      <td>...</td>\n",
       "      <td>0</td>\n",
       "      <td>0</td>\n",
       "      <td>1</td>\n",
       "      <td>1</td>\n",
       "      <td>0</td>\n",
       "      <td>0</td>\n",
       "      <td>0</td>\n",
       "      <td>0</td>\n",
       "      <td>0</td>\n",
       "      <td>0</td>\n",
       "    </tr>\n",
       "  </tbody>\n",
       "</table>\n",
       "<p>5 rows × 30 columns</p>\n",
       "</div>"
      ],
      "text/plain": [
       "    flag  education  house_val  age  online  mortgage  fam_income  \\\n",
       "2      0          4     111147    4       1         1           9   \n",
       "5      1          1     248694    3       1         2           6   \n",
       "7      0          1     416925    2       1         1           8   \n",
       "8      0          3     207676    1       1         1           3   \n",
       "10     0          4     158268    5       1         2           4   \n",
       "\n",
       "    gender_Male  gender_Unknown  customer_psy_B  ...  occupation_Professional  \\\n",
       "2             1               0               0  ...                        1   \n",
       "5             0               0               1  ...                        1   \n",
       "7             0               0               0  ...                        1   \n",
       "8             0               0               0  ...                        0   \n",
       "10            1               0               0  ...                        0   \n",
       "\n",
       "    occupation_Retired  occupation_Sales/Service  child_Yes  \\\n",
       "2                    0                         0          1   \n",
       "5                    0                         0          0   \n",
       "7                    0                         0          1   \n",
       "8                    0                         0          1   \n",
       "10                   0                         1          1   \n",
       "\n",
       "    house_owner_Renter  region_Northeast  region_Rest  region_South  \\\n",
       "2                    0                 0            0             0   \n",
       "5                    0                 0            0             0   \n",
       "7                    0                 0            0             1   \n",
       "8                    1                 0            0             0   \n",
       "10                   0                 0            0             0   \n",
       "\n",
       "    region_West  marriage_Single  \n",
       "2             0                0  \n",
       "5             1                0  \n",
       "7             0                0  \n",
       "8             1                0  \n",
       "10            0                0  \n",
       "\n",
       "[5 rows x 30 columns]"
      ]
     },
     "execution_count": 38,
     "metadata": {},
     "output_type": "execute_result"
    }
   ],
   "source": [
    "sales.head()"
   ]
  },
  {
   "cell_type": "markdown",
   "metadata": {},
   "source": [
    "As we could see, there is several columns that turned into Int32 instead of Int64 after transforming. So before we move into the split and modelling phase, we should transform the Int32 into Int64"
   ]
  },
  {
   "cell_type": "code",
   "execution_count": 39,
   "metadata": {},
   "outputs": [],
   "source": [
    "sales = sales.astype({col: 'int64' for col in sales.select_dtypes('int32').columns})"
   ]
  },
  {
   "cell_type": "code",
   "execution_count": 40,
   "metadata": {},
   "outputs": [
    {
     "name": "stdout",
     "output_type": "stream",
     "text": [
      "<class 'pandas.core.frame.DataFrame'>\n",
      "Int64Index: 26877 entries, 2 to 39999\n",
      "Data columns (total 30 columns):\n",
      " #   Column                    Non-Null Count  Dtype\n",
      "---  ------                    --------------  -----\n",
      " 0   flag                      26877 non-null  int64\n",
      " 1   education                 26877 non-null  int64\n",
      " 2   house_val                 26877 non-null  int64\n",
      " 3   age                       26877 non-null  int64\n",
      " 4   online                    26877 non-null  int64\n",
      " 5   mortgage                  26877 non-null  int64\n",
      " 6   fam_income                26877 non-null  int64\n",
      " 7   gender_Male               26877 non-null  uint8\n",
      " 8   gender_Unknown            26877 non-null  uint8\n",
      " 9   customer_psy_B            26877 non-null  uint8\n",
      " 10  customer_psy_C            26877 non-null  uint8\n",
      " 11  customer_psy_D            26877 non-null  uint8\n",
      " 12  customer_psy_E            26877 non-null  uint8\n",
      " 13  customer_psy_F            26877 non-null  uint8\n",
      " 14  customer_psy_G            26877 non-null  uint8\n",
      " 15  customer_psy_H            26877 non-null  uint8\n",
      " 16  customer_psy_I            26877 non-null  uint8\n",
      " 17  customer_psy_J            26877 non-null  uint8\n",
      " 18  occupation_Farm           26877 non-null  uint8\n",
      " 19  occupation_Others         26877 non-null  uint8\n",
      " 20  occupation_Professional   26877 non-null  uint8\n",
      " 21  occupation_Retired        26877 non-null  uint8\n",
      " 22  occupation_Sales/Service  26877 non-null  uint8\n",
      " 23  child_Yes                 26877 non-null  uint8\n",
      " 24  house_owner_Renter        26877 non-null  uint8\n",
      " 25  region_Northeast          26877 non-null  uint8\n",
      " 26  region_Rest               26877 non-null  uint8\n",
      " 27  region_South              26877 non-null  uint8\n",
      " 28  region_West               26877 non-null  uint8\n",
      " 29  marriage_Single           26877 non-null  uint8\n",
      "dtypes: int64(7), uint8(23)\n",
      "memory usage: 2.2 MB\n"
     ]
    }
   ],
   "source": [
    "sales.info()"
   ]
  },
  {
   "cell_type": "markdown",
   "metadata": {},
   "source": [
    " "
   ]
  },
  {
   "cell_type": "markdown",
   "metadata": {},
   "source": [
    "### I. Cross Validation\n",
    "\n",
    "The cross-validation step is where we will split our data into 2 separate dataset: training dataset and testing\n",
    "dataset.\n",
    "\n",
    "- Training Dataset: Dataset that will be used to train the machine learning model\n",
    "- Testing Dataset: Dataset that will be used to evaluate the performance of the model.\n",
    "\n",
    "Why do we need to separate the data? Because the model will always perform better in the data that\n",
    "they’ve trained with. Imagine where you are doing a math homework. You can easily do them, especially\n",
    "after you check the correct answer and learn what makes you wrong. However, we want our model to be\n",
    "able to predict a new, unseen data. That’s why we need the testing dataset. The testing dataset acts as the\n",
    "examination or evaluation for the model, to check whether they can truly learn the pattern inside the data."
   ]
  },
  {
   "cell_type": "code",
   "execution_count": 41,
   "metadata": {},
   "outputs": [
    {
     "data": {
      "text/plain": [
       "Index(['flag', 'education', 'house_val', 'age', 'online', 'mortgage',\n",
       "       'fam_income', 'gender_Male', 'gender_Unknown', 'customer_psy_B',\n",
       "       'customer_psy_C', 'customer_psy_D', 'customer_psy_E', 'customer_psy_F',\n",
       "       'customer_psy_G', 'customer_psy_H', 'customer_psy_I', 'customer_psy_J',\n",
       "       'occupation_Farm', 'occupation_Others', 'occupation_Professional',\n",
       "       'occupation_Retired', 'occupation_Sales/Service', 'child_Yes',\n",
       "       'house_owner_Renter', 'region_Northeast', 'region_Rest', 'region_South',\n",
       "       'region_West', 'marriage_Single'],\n",
       "      dtype='object')"
      ]
     },
     "execution_count": 41,
     "metadata": {},
     "output_type": "execute_result"
    }
   ],
   "source": [
    "sales.columns"
   ]
  },
  {
   "cell_type": "code",
   "execution_count": 42,
   "metadata": {},
   "outputs": [],
   "source": [
    "X = sales[['education', 'house_val', 'age', 'online', 'mortgage',\n",
    "       'fam_income', 'gender_Male', 'gender_Unknown', 'customer_psy_B',\n",
    "       'customer_psy_C', 'customer_psy_D', 'customer_psy_E', 'customer_psy_F',\n",
    "       'customer_psy_G', 'customer_psy_H', 'customer_psy_I', 'customer_psy_J',\n",
    "       'occupation_Farm', 'occupation_Others', 'occupation_Professional',\n",
    "       'occupation_Retired', 'occupation_Sales/Service', 'child_Yes',\n",
    "       'house_owner_Renter', 'region_Northeast', 'region_Rest', 'region_South',\n",
    "       'region_West', 'marriage_Single']]\n",
    "\n",
    "y = sales[['flag']]"
   ]
  },
  {
   "cell_type": "code",
   "execution_count": 43,
   "metadata": {},
   "outputs": [
    {
     "name": "stdout",
     "output_type": "stream",
     "text": [
      "X_train Shape: (21501, 29)\n",
      "y_train Shape:  (21501, 1)\n",
      "X_test: (5376, 29)\n",
      "y_test Shape:  (5376, 1)\n"
     ]
    }
   ],
   "source": [
    "from sklearn.model_selection import train_test_split\n",
    "\n",
    "X_train, X_test, y_train, y_test = train_test_split(X, y, test_size=0.2, random_state=42)\n",
    "\n",
    "print('X_train Shape:', X_train.shape)\n",
    "print('y_train Shape: ',y_train.shape)\n",
    "print('X_test:', X_test.shape)\n",
    "print('y_test Shape: ',y_test.shape)"
   ]
  },
  {
   "cell_type": "markdown",
   "metadata": {},
   "source": [
    "Here we split the data with **80% of the data** will be the training dataset and the rest will be the testing\n",
    "dataset. Each observation/row is randomly selected as either the training set or the testing set. The random\n",
    "selection is done to make sure we don’t include any selection bias done by human."
   ]
  },
  {
   "cell_type": "markdown",
   "metadata": {},
   "source": [
    " "
   ]
  },
  {
   "cell_type": "markdown",
   "metadata": {},
   "source": [
    "### II. Model Fitting"
   ]
  },
  {
   "cell_type": "markdown",
   "metadata": {},
   "source": [
    "Here, we fit or train the model using the data train. We will use 3 different models: **Decision Tree, \n",
    "Random Forest, and LGBM**. I also include the **SVM** model for additional. Later, we will evaluate both models and compare the outcome. eventually we will choose only the best model based on the final score"
   ]
  },
  {
   "cell_type": "markdown",
   "metadata": {},
   "source": [
    "### Decision Tree"
   ]
  },
  {
   "cell_type": "code",
   "execution_count": 44,
   "metadata": {},
   "outputs": [
    {
     "name": "stdout",
     "output_type": "stream",
     "text": [
      "The accuracy of the Decision Tree is 0.6002604166666666\n"
     ]
    }
   ],
   "source": [
    "from sklearn.tree import DecisionTreeClassifier\n",
    "from sklearn import metrics #for checking the model accuracy\n",
    "\n",
    "dt=DecisionTreeClassifier()\n",
    "dt.fit(X_train,y_train)\n",
    "pred1=dt.predict(X_test)\n",
    "print('The accuracy of the Decision Tree is',metrics.accuracy_score(pred1,y_test))"
   ]
  },
  {
   "cell_type": "code",
   "execution_count": 45,
   "metadata": {},
   "outputs": [
    {
     "name": "stdout",
     "output_type": "stream",
     "text": [
      "Confusion matrix: \n",
      " [[1534 1066]\n",
      " [1083 1693]]\n",
      "Classification report: \n",
      "               precision    recall  f1-score   support\n",
      "\n",
      "           0       0.59      0.59      0.59      2600\n",
      "           1       0.61      0.61      0.61      2776\n",
      "\n",
      "    accuracy                           0.60      5376\n",
      "   macro avg       0.60      0.60      0.60      5376\n",
      "weighted avg       0.60      0.60      0.60      5376\n",
      "\n"
     ]
    }
   ],
   "source": [
    "from sklearn.metrics import classification_report, confusion_matrix\n",
    "cm = confusion_matrix(y_test, dt.predict(X_test))\n",
    "print('Confusion matrix: \\n',cm)\n",
    "print('Classification report: \\n',classification_report(y_test, dt.predict(X_test)))"
   ]
  },
  {
   "cell_type": "markdown",
   "metadata": {},
   "source": [
    "### Support Vector Machine"
   ]
  },
  {
   "cell_type": "code",
   "execution_count": 46,
   "metadata": {},
   "outputs": [
    {
     "name": "stderr",
     "output_type": "stream",
     "text": [
      "C:\\Users\\Dimas AR\\anaconda3\\lib\\site-packages\\sklearn\\utils\\validation.py:73: DataConversionWarning: A column-vector y was passed when a 1d array was expected. Please change the shape of y to (n_samples, ), for example using ravel().\n",
      "  return f(**kwargs)\n"
     ]
    },
    {
     "name": "stdout",
     "output_type": "stream",
     "text": [
      "The accuracy of the SVM is: 0.6311383928571429\n"
     ]
    }
   ],
   "source": [
    "#from sklearn.linear_model import LogisticRegression  # for Logistic Regression algorithm\n",
    "#from sklearn.neighbors import KNeighborsClassifier  # for K nearest neighbours\n",
    "from sklearn import svm  #for Support Vector Machine (SVM) Algorithm\n",
    "\n",
    "model = svm.SVC() #select the algorithm\n",
    "model.fit(X_train, y_train) # we train the algorithm with the training data and the training output\n",
    "pred2=model.predict(X_test) #now we pass the testing data to the trained algorithm\n",
    "print('The accuracy of the SVM is:',metrics.accuracy_score(pred2,y_test))#now we check the accuracy of the algorithm. \n",
    "#we pass the predicted output by the model and the actual output"
   ]
  },
  {
   "cell_type": "markdown",
   "metadata": {},
   "source": [
    "### Random Forest Classification + Randomized Search CV"
   ]
  },
  {
   "cell_type": "code",
   "execution_count": 47,
   "metadata": {},
   "outputs": [],
   "source": [
    "from sklearn.ensemble import RandomForestClassifier\n",
    "from sklearn.model_selection import RandomizedSearchCV\n",
    "from sklearn.pipeline import make_pipeline\n",
    "\n",
    "params = {'n_estimators': range(50, 251, 50),\n",
    "          'max_depth': range(3, 25),\n",
    "          'max_features': ['sqrt', 'log2', None]}\n",
    "\n",
    "rscv = RandomizedSearchCV(RandomForestClassifier(),\n",
    "                          param_distributions=params,\n",
    "                          n_iter=20,\n",
    "                          cv=3,\n",
    "                          verbose=-1,\n",
    "                          n_jobs=8)\n",
    "\n",
    "rf = make_pipeline(rscv)"
   ]
  },
  {
   "cell_type": "code",
   "execution_count": 48,
   "metadata": {},
   "outputs": [
    {
     "name": "stderr",
     "output_type": "stream",
     "text": [
      "[Parallel(n_jobs=8)]: Using backend LokyBackend with 8 concurrent workers.\n",
      "[Parallel(n_jobs=8)]: Done  60 out of  60 | elapsed:  3.0min finished\n",
      "C:\\Users\\Dimas AR\\anaconda3\\lib\\site-packages\\sklearn\\model_selection\\_search.py:765: DataConversionWarning: A column-vector y was passed when a 1d array was expected. Please change the shape of y to (n_samples,), for example using ravel().\n",
      "  self.best_estimator_.fit(X, y, **fit_params)\n"
     ]
    }
   ],
   "source": [
    "rf.fit(X_train, y_train);"
   ]
  },
  {
   "cell_type": "code",
   "execution_count": 49,
   "metadata": {},
   "outputs": [
    {
     "name": "stdout",
     "output_type": "stream",
     "text": [
      "Confusion matrix: \n",
      " [[1718  882]\n",
      " [ 797 1979]]\n",
      "Classification report: \n",
      "               precision    recall  f1-score   support\n",
      "\n",
      "           0       0.68      0.66      0.67      2600\n",
      "           1       0.69      0.71      0.70      2776\n",
      "\n",
      "    accuracy                           0.69      5376\n",
      "   macro avg       0.69      0.69      0.69      5376\n",
      "weighted avg       0.69      0.69      0.69      5376\n",
      "\n",
      "The accuracy of the Random Forest is 0.6876860119047619\n"
     ]
    }
   ],
   "source": [
    "rf_pred = rf.predict(X_test)\n",
    "cm = confusion_matrix(y_test, rf.predict(X_test))\n",
    "print('Confusion matrix: \\n',cm)\n",
    "print('Classification report: \\n',classification_report(y_test, rf.predict(X_test)))\n",
    "print('The accuracy of the Random Forest is',metrics.accuracy_score(y_test, rf.predict(X_test)))"
   ]
  },
  {
   "cell_type": "code",
   "execution_count": 50,
   "metadata": {},
   "outputs": [],
   "source": [
    "#cm = confusion_matrix(y_test, model.predict(X_test))\n",
    "#print('Confusion matrix: \\n',cm)\n",
    "#print('Classification report: \\n',classification_report(y_test, model.predict(X_test)))\n",
    "#print('The accuracy of the Random Forest is',metrics.accuracy_score(y_test, model.predict(X_test)))"
   ]
  },
  {
   "cell_type": "markdown",
   "metadata": {},
   "source": [
    "### LightGBM Classification"
   ]
  },
  {
   "cell_type": "code",
   "execution_count": 51,
   "metadata": {},
   "outputs": [
    {
     "name": "stderr",
     "output_type": "stream",
     "text": [
      "C:\\Users\\Dimas AR\\anaconda3\\lib\\site-packages\\sklearn\\utils\\validation.py:73: DataConversionWarning: A column-vector y was passed when a 1d array was expected. Please change the shape of y to (n_samples, ), for example using ravel().\n",
      "  return f(**kwargs)\n"
     ]
    },
    {
     "data": {
      "text/plain": [
       "69.59"
      ]
     },
     "execution_count": 51,
     "metadata": {},
     "output_type": "execute_result"
    }
   ],
   "source": [
    "import lightgbm as lgb\n",
    "from lightgbm import LGBMClassifier\n",
    "\n",
    "clf_lgbm = LGBMClassifier(\n",
    "        n_estimators=300,\n",
    "        num_leaves=15,\n",
    "        colsample_bytree=.8,\n",
    "        subsample=.8,\n",
    "        max_depth=7,\n",
    "        reg_alpha=.1,\n",
    "        reg_lambda=.1,\n",
    "        min_split_gain=.01\n",
    "    )\n",
    "\n",
    "clf_lgbm.fit(X_train, \n",
    "        y_train,\n",
    "        eval_set= [(X_train, y_train), (X_test, y_test)], \n",
    "        eval_metric='auc', \n",
    "        verbose=0, \n",
    "        early_stopping_rounds=30\n",
    "       )\n",
    "\n",
    "acc_clf_lgbm = round(clf_lgbm.score(X_test, y_test) * 100, 2)\n",
    "acc_clf_lgbm"
   ]
  },
  {
   "cell_type": "code",
   "execution_count": 52,
   "metadata": {},
   "outputs": [
    {
     "name": "stdout",
     "output_type": "stream",
     "text": [
      "Classification report: \n",
      "               precision    recall  f1-score   support\n",
      "\n",
      "           0       0.70      0.65      0.67      2600\n",
      "           1       0.69      0.74      0.71      2776\n",
      "\n",
      "    accuracy                           0.70      5376\n",
      "   macro avg       0.70      0.69      0.69      5376\n",
      "weighted avg       0.70      0.70      0.70      5376\n",
      "\n",
      "The accuracy of the LGBM is 0.6958705357142857\n"
     ]
    }
   ],
   "source": [
    "y_pred = clf_lgbm.predict(X_test)\n",
    "confusion_matrix(y_test, y_pred)\n",
    "print('Classification report: \\n',classification_report(y_test, clf_lgbm.predict(X_test)))\n",
    "print('The accuracy of the LGBM is',metrics.accuracy_score(y_test, clf_lgbm.predict(X_test)))"
   ]
  },
  {
   "cell_type": "markdown",
   "metadata": {},
   "source": [
    "### Feature Importance"
   ]
  },
  {
   "cell_type": "code",
   "execution_count": 53,
   "metadata": {},
   "outputs": [
    {
     "data": {
      "text/plain": [
       "house_val                   258\n",
       "age                         160\n",
       "education                   129\n",
       "fam_income                  112\n",
       "gender_Male                  82\n",
       "mortgage                     58\n",
       "online                       53\n",
       "region_South                 40\n",
       "customer_psy_C               37\n",
       "marriage_Single              36\n",
       "child_Yes                    33\n",
       "occupation_Professional      30\n",
       "customer_psy_E               28\n",
       "house_owner_Renter           26\n",
       "occupation_Others            19\n",
       "customer_psy_D               17\n",
       "gender_Unknown               16\n",
       "customer_psy_G               14\n",
       "occupation_Retired           13\n",
       "occupation_Sales/Service     13\n",
       "region_Northeast             13\n",
       "region_West                  12\n",
       "occupation_Farm              12\n",
       "region_Rest                  11\n",
       "customer_psy_F               10\n",
       "customer_psy_H               10\n",
       "customer_psy_J                7\n",
       "customer_psy_B                6\n",
       "customer_psy_I                5\n",
       "dtype: int32"
      ]
     },
     "execution_count": 53,
     "metadata": {},
     "output_type": "execute_result"
    }
   ],
   "source": [
    "feature_scores = pd.Series(clf_lgbm.feature_importances_, index=X_train.columns).sort_values(ascending=False)\n",
    "\n",
    "feature_scores"
   ]
  },
  {
   "cell_type": "code",
   "execution_count": 54,
   "metadata": {},
   "outputs": [
    {
     "data": {
      "image/png": "[encoded data removed]",
      "text/plain": [
       "<Figure size 1800x1800 with 1 Axes>"
      ]
     },
     "metadata": {},
     "output_type": "display_data"
    }
   ],
   "source": [
    "f, ax = plt.subplots(figsize=(25,25))\n",
    "sns.set(font_scale=2)\n",
    "ax = sns.barplot(x=feature_scores, y=feature_scores.index)\n",
    "ax.set_title(\"Visualize feature scores of the features\")\n",
    "ax.set_yticklabels(feature_scores.index)\n",
    "ax.set_xlabel(\"Feature importance score\")\n",
    "ax.set_ylabel(\"Features\")\n",
    "plt.show()"
   ]
  },
  {
   "cell_type": "markdown",
   "metadata": {},
   "source": [
    "With that, we can go back to the business goal, specifically the Data Mining Goals of our project. Does\n",
    "our model have achieved our data mining goals?\n",
    "\n",
    "- Build predictive model with 75% accuracy\n",
    "- Build predictive model with 75% recall\n",
    "- Build predictive model with 75% precision\n",
    "\n",
    "If the model doesn’t satisfy the data mining goals, the team can works on improving the model to get\n",
    "better performance. That’s why we have an improvement loop on the machine learning workflow. We rarely\n",
    "achieve our best model on the first run and need to do several iterations on improvement until we find the\n",
    "best model.\n",
    "\n",
    "For now, we will proceed to the next step."
   ]
  },
  {
   "cell_type": "markdown",
   "metadata": {},
   "source": [
    " "
   ]
  },
  {
   "cell_type": "markdown",
   "metadata": {},
   "source": [
    "## Evaluation"
   ]
  },
  {
   "cell_type": "markdown",
   "metadata": {},
   "source": [
    "On the **Evaluation phase**, we will further evaluate the model into the context of the business problem.\n",
    "The deliverable or result of this phase should include:\n",
    "- Model business assesment\n",
    "- Review of the overal process\n",
    "- Possible action and final decision"
   ]
  },
  {
   "cell_type": "markdown",
   "metadata": {},
   "source": [
    "### Cost and Benefit Analysis\n",
    "\n",
    "The cost and benefit analysis is where we try to convert the machine learning performance into the business\n",
    "context. We will try to see by employing the machine model, how many profit that we can make compared\n",
    "to the average profit we currently have?"
   ]
  },
  {
   "cell_type": "markdown",
   "metadata": {},
   "source": [
    "**Define Cost and Benefit**\n",
    "\n",
    "The first we do is to define the cost and benefit of each decision. We will define it similar with the previous\n",
    "confusion matrix. The main cost is the cost of approaching a customer, in here we defined it as 600. The\n",
    "revenue generated for each customer is 1000, with the profit of 400 after we cut the revenue with the cost.\n",
    "- **True Positive (TP)**: If the model predict customer **will buy** and the prediction is correct **(customer actually buy)**, we will get a profit of 400 (1000 revenue - 600 cost)\n",
    "\n",
    "- **False Positive (FP)**: If the model predict customer **will buy** and the prediction is incorrect **(customer not buy)**, we will lost 600\n",
    "\n",
    "- **True Negative (TN)**: If the model predict customer **will not buy** and the prediction is correct **(customer not buy)**, nothing happened\n",
    "\n",
    "- **False Negative (FN)**: If the model predict customer **will not buy** and the prediction is incorrect **(customer buy)**, nothing happened"
   ]
  },
  {
   "cell_type": "code",
   "execution_count": 55,
   "metadata": {},
   "outputs": [],
   "source": [
    "output = pd.DataFrame({'Decision Tree': pred1,'Random Forest': rf_pred, 'LGBM' : y_pred, 'Truth': y_test['flag']})\n",
    "output.to_csv('predicted_sales.csv', index=False)"
   ]
  },
  {
   "cell_type": "code",
   "execution_count": 56,
   "metadata": {},
   "outputs": [
    {
     "data": {
      "text/html": [
       "<div>\n",
       "<style scoped>\n",
       "    .dataframe tbody tr th:only-of-type {\n",
       "        vertical-align: middle;\n",
       "    }\n",
       "\n",
       "    .dataframe tbody tr th {\n",
       "        vertical-align: top;\n",
       "    }\n",
       "\n",
       "    .dataframe thead th {\n",
       "        text-align: right;\n",
       "    }\n",
       "</style>\n",
       "<table border=\"1\" class=\"dataframe\">\n",
       "  <thead>\n",
       "    <tr style=\"text-align: right;\">\n",
       "      <th></th>\n",
       "      <th>Decision Tree</th>\n",
       "      <th>Random Forest</th>\n",
       "      <th>LGBM</th>\n",
       "      <th>Truth</th>\n",
       "    </tr>\n",
       "  </thead>\n",
       "  <tbody>\n",
       "    <tr>\n",
       "      <th>7170</th>\n",
       "      <td>1</td>\n",
       "      <td>1</td>\n",
       "      <td>1</td>\n",
       "      <td>0</td>\n",
       "    </tr>\n",
       "    <tr>\n",
       "      <th>14459</th>\n",
       "      <td>1</td>\n",
       "      <td>1</td>\n",
       "      <td>1</td>\n",
       "      <td>1</td>\n",
       "    </tr>\n",
       "    <tr>\n",
       "      <th>39430</th>\n",
       "      <td>1</td>\n",
       "      <td>1</td>\n",
       "      <td>1</td>\n",
       "      <td>0</td>\n",
       "    </tr>\n",
       "    <tr>\n",
       "      <th>25024</th>\n",
       "      <td>1</td>\n",
       "      <td>1</td>\n",
       "      <td>1</td>\n",
       "      <td>0</td>\n",
       "    </tr>\n",
       "    <tr>\n",
       "      <th>30921</th>\n",
       "      <td>1</td>\n",
       "      <td>1</td>\n",
       "      <td>1</td>\n",
       "      <td>0</td>\n",
       "    </tr>\n",
       "    <tr>\n",
       "      <th>19446</th>\n",
       "      <td>1</td>\n",
       "      <td>1</td>\n",
       "      <td>1</td>\n",
       "      <td>1</td>\n",
       "    </tr>\n",
       "    <tr>\n",
       "      <th>37010</th>\n",
       "      <td>1</td>\n",
       "      <td>1</td>\n",
       "      <td>1</td>\n",
       "      <td>0</td>\n",
       "    </tr>\n",
       "    <tr>\n",
       "      <th>25077</th>\n",
       "      <td>1</td>\n",
       "      <td>1</td>\n",
       "      <td>1</td>\n",
       "      <td>0</td>\n",
       "    </tr>\n",
       "    <tr>\n",
       "      <th>25849</th>\n",
       "      <td>1</td>\n",
       "      <td>1</td>\n",
       "      <td>1</td>\n",
       "      <td>1</td>\n",
       "    </tr>\n",
       "    <tr>\n",
       "      <th>24268</th>\n",
       "      <td>1</td>\n",
       "      <td>1</td>\n",
       "      <td>1</td>\n",
       "      <td>1</td>\n",
       "    </tr>\n",
       "  </tbody>\n",
       "</table>\n",
       "</div>"
      ],
      "text/plain": [
       "       Decision Tree  Random Forest  LGBM  Truth\n",
       "7170               1              1     1      0\n",
       "14459              1              1     1      1\n",
       "39430              1              1     1      0\n",
       "25024              1              1     1      0\n",
       "30921              1              1     1      0\n",
       "19446              1              1     1      1\n",
       "37010              1              1     1      0\n",
       "25077              1              1     1      0\n",
       "25849              1              1     1      1\n",
       "24268              1              1     1      1"
      ]
     },
     "execution_count": 56,
     "metadata": {},
     "output_type": "execute_result"
    }
   ],
   "source": [
    "output.sort_values(by = ['Decision Tree','Random Forest','LGBM'], ascending=[False,False,False]).head(10)"
   ]
  },
  {
   "cell_type": "markdown",
   "metadata": {},
   "source": [
    "We will prioritize the customer that has the highest probability to buy our product. Thus, first we make a\n",
    "list of a high scoring customer.\n",
    "\n",
    "And we calculate for how many profit we will get if we target and approach only some percent of the total\n",
    "customer? For example, if we only target the top 10 customer and ignore the rest, we have correctly predict\n",
    "6 customer as buy and only a single incorrect prediction (the actual buying decision is on the truth column).\n",
    "Thus, our profit would be:\n",
    "\n",
    "#### <center> Profit = 6 × 400 + 2 × (−600) = 1200 (LGBM Model)\n",
    "#### <center> Profit = 6 × 400 + 2 × (−600) = 1200 (Random Forest Model)\n",
    "#### <center> Profit = 6 × 400 + 2 × (−600) = 1200 (Decision Tree Model)\n",
    "\n",
    "Since we have 0 cost and 0 benefit for negative prediction, we can skip the calculation and our **final profit is\n",
    "only a mere 1200**."
   ]
  },
  {
   "cell_type": "markdown",
   "metadata": {},
   "source": [
    " "
   ]
  },
  {
   "cell_type": "markdown",
   "metadata": {},
   "source": [
    "Now we increase the number of people that we will approach by using the top 20 leads based on their score."
   ]
  },
  {
   "cell_type": "code",
   "execution_count": 57,
   "metadata": {},
   "outputs": [
    {
     "data": {
      "text/html": [
       "<div>\n",
       "<style scoped>\n",
       "    .dataframe tbody tr th:only-of-type {\n",
       "        vertical-align: middle;\n",
       "    }\n",
       "\n",
       "    .dataframe tbody tr th {\n",
       "        vertical-align: top;\n",
       "    }\n",
       "\n",
       "    .dataframe thead th {\n",
       "        text-align: right;\n",
       "    }\n",
       "</style>\n",
       "<table border=\"1\" class=\"dataframe\">\n",
       "  <thead>\n",
       "    <tr style=\"text-align: right;\">\n",
       "      <th></th>\n",
       "      <th>Decision Tree</th>\n",
       "      <th>Random Forest</th>\n",
       "      <th>LGBM</th>\n",
       "      <th>Truth</th>\n",
       "    </tr>\n",
       "  </thead>\n",
       "  <tbody>\n",
       "    <tr>\n",
       "      <th>7170</th>\n",
       "      <td>1</td>\n",
       "      <td>1</td>\n",
       "      <td>1</td>\n",
       "      <td>0</td>\n",
       "    </tr>\n",
       "    <tr>\n",
       "      <th>14459</th>\n",
       "      <td>1</td>\n",
       "      <td>1</td>\n",
       "      <td>1</td>\n",
       "      <td>1</td>\n",
       "    </tr>\n",
       "    <tr>\n",
       "      <th>39430</th>\n",
       "      <td>1</td>\n",
       "      <td>1</td>\n",
       "      <td>1</td>\n",
       "      <td>0</td>\n",
       "    </tr>\n",
       "    <tr>\n",
       "      <th>25024</th>\n",
       "      <td>1</td>\n",
       "      <td>1</td>\n",
       "      <td>1</td>\n",
       "      <td>0</td>\n",
       "    </tr>\n",
       "    <tr>\n",
       "      <th>30921</th>\n",
       "      <td>1</td>\n",
       "      <td>1</td>\n",
       "      <td>1</td>\n",
       "      <td>0</td>\n",
       "    </tr>\n",
       "    <tr>\n",
       "      <th>19446</th>\n",
       "      <td>1</td>\n",
       "      <td>1</td>\n",
       "      <td>1</td>\n",
       "      <td>1</td>\n",
       "    </tr>\n",
       "    <tr>\n",
       "      <th>37010</th>\n",
       "      <td>1</td>\n",
       "      <td>1</td>\n",
       "      <td>1</td>\n",
       "      <td>0</td>\n",
       "    </tr>\n",
       "    <tr>\n",
       "      <th>25077</th>\n",
       "      <td>1</td>\n",
       "      <td>1</td>\n",
       "      <td>1</td>\n",
       "      <td>0</td>\n",
       "    </tr>\n",
       "    <tr>\n",
       "      <th>25849</th>\n",
       "      <td>1</td>\n",
       "      <td>1</td>\n",
       "      <td>1</td>\n",
       "      <td>1</td>\n",
       "    </tr>\n",
       "    <tr>\n",
       "      <th>24268</th>\n",
       "      <td>1</td>\n",
       "      <td>1</td>\n",
       "      <td>1</td>\n",
       "      <td>1</td>\n",
       "    </tr>\n",
       "    <tr>\n",
       "      <th>11530</th>\n",
       "      <td>1</td>\n",
       "      <td>1</td>\n",
       "      <td>1</td>\n",
       "      <td>0</td>\n",
       "    </tr>\n",
       "    <tr>\n",
       "      <th>5124</th>\n",
       "      <td>1</td>\n",
       "      <td>1</td>\n",
       "      <td>1</td>\n",
       "      <td>1</td>\n",
       "    </tr>\n",
       "    <tr>\n",
       "      <th>34278</th>\n",
       "      <td>1</td>\n",
       "      <td>1</td>\n",
       "      <td>1</td>\n",
       "      <td>0</td>\n",
       "    </tr>\n",
       "    <tr>\n",
       "      <th>20883</th>\n",
       "      <td>1</td>\n",
       "      <td>1</td>\n",
       "      <td>1</td>\n",
       "      <td>1</td>\n",
       "    </tr>\n",
       "    <tr>\n",
       "      <th>30602</th>\n",
       "      <td>1</td>\n",
       "      <td>1</td>\n",
       "      <td>1</td>\n",
       "      <td>1</td>\n",
       "    </tr>\n",
       "    <tr>\n",
       "      <th>8075</th>\n",
       "      <td>1</td>\n",
       "      <td>1</td>\n",
       "      <td>1</td>\n",
       "      <td>1</td>\n",
       "    </tr>\n",
       "    <tr>\n",
       "      <th>5076</th>\n",
       "      <td>1</td>\n",
       "      <td>1</td>\n",
       "      <td>1</td>\n",
       "      <td>1</td>\n",
       "    </tr>\n",
       "    <tr>\n",
       "      <th>27281</th>\n",
       "      <td>1</td>\n",
       "      <td>1</td>\n",
       "      <td>1</td>\n",
       "      <td>1</td>\n",
       "    </tr>\n",
       "    <tr>\n",
       "      <th>13185</th>\n",
       "      <td>1</td>\n",
       "      <td>1</td>\n",
       "      <td>1</td>\n",
       "      <td>1</td>\n",
       "    </tr>\n",
       "    <tr>\n",
       "      <th>18665</th>\n",
       "      <td>1</td>\n",
       "      <td>1</td>\n",
       "      <td>1</td>\n",
       "      <td>0</td>\n",
       "    </tr>\n",
       "  </tbody>\n",
       "</table>\n",
       "</div>"
      ],
      "text/plain": [
       "       Decision Tree  Random Forest  LGBM  Truth\n",
       "7170               1              1     1      0\n",
       "14459              1              1     1      1\n",
       "39430              1              1     1      0\n",
       "25024              1              1     1      0\n",
       "30921              1              1     1      0\n",
       "19446              1              1     1      1\n",
       "37010              1              1     1      0\n",
       "25077              1              1     1      0\n",
       "25849              1              1     1      1\n",
       "24268              1              1     1      1\n",
       "11530              1              1     1      0\n",
       "5124               1              1     1      1\n",
       "34278              1              1     1      0\n",
       "20883              1              1     1      1\n",
       "30602              1              1     1      1\n",
       "8075               1              1     1      1\n",
       "5076               1              1     1      1\n",
       "27281              1              1     1      1\n",
       "13185              1              1     1      1\n",
       "18665              1              1     1      0"
      ]
     },
     "execution_count": 57,
     "metadata": {},
     "output_type": "execute_result"
    }
   ],
   "source": [
    "output.sort_values(by = ['Decision Tree','Random Forest','LGBM'], ascending=[False,False,False]).head(20)"
   ]
  },
  {
   "cell_type": "markdown",
   "metadata": {},
   "source": [
    "From the top 20 leads, we get 11 correct prediction of buying and 9 incorrect prediction. Therefore, we will\n",
    "get a total profit of:\n",
    "\n",
    "#### <center> Profit = 11 × 400 + 2 × (−600) = 3200\n",
    "\n",
    "<center> That’s how we will calculate the profit."
   ]
  },
  {
   "cell_type": "markdown",
   "metadata": {},
   "source": [
    " "
   ]
  },
  {
   "cell_type": "markdown",
   "metadata": {},
   "source": [
    "### Review Overal Process\n",
    "\n",
    "The overal process of the data mining is quite smooth with some flaws that we find:\n",
    "- Dirty or improper input data\n",
    "- Underperforming model\n",
    "- Data gathering is not done in real time yet\n",
    "\n",
    "\n",
    "### Final Decision\n",
    "\n",
    "After reviewing the project, there are some possible action for us to do:\n",
    "- Improve the model before release them into the real use\n",
    "- Release the model while also developing a better model\n",
    "- Create a standardized data input procedure\n",
    "- Present a full report of the data mining project"
   ]
  }
 ],
 "metadata": {
  "kernelspec": {
   "display_name": "Python 3",
   "language": "python",
   "name": "python3"
  },
  "language_info": {
   "codemirror_mode": {
    "name": "ipython",
    "version": 3
   },
   "file_extension": ".py",
   "mimetype": "text/x-python",
   "name": "python",
   "nbconvert_exporter": "python",
   "pygments_lexer": "ipython3",
   "version": "3.8.3"
  }
 },
 "nbformat": 4,
 "nbformat_minor": 4
}
